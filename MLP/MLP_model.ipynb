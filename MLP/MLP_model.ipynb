{
 "cells": [
  {
   "cell_type": "markdown",
   "id": "8801d5c1-bed6-4b08-b964-e29e1fb4c079",
   "metadata": {},
   "source": [
    "### Import libraries"
   ]
  },
  {
   "cell_type": "code",
   "execution_count": 1,
   "id": "78e71d4b-2bb3-495b-808e-d9909cdae62e",
   "metadata": {},
   "outputs": [],
   "source": [
    "import math\n",
    "import pandas as pd\n",
    "import numpy as np\n",
    "from sklearn.preprocessing import StandardScaler\n",
    "from sklearn.model_selection import train_test_split\n",
    "from sklearn import metrics"
   ]
  },
  {
   "cell_type": "code",
   "execution_count": 2,
   "id": "89a9d6c3-d0e7-416e-8bf2-19bc1c163a6c",
   "metadata": {},
   "outputs": [],
   "source": [
    "import tensorflow as tf\n",
    "from keras.models import Sequential\n",
    "from keras.layers import Dense\n",
    "from keras.initializers import GlorotNormal"
   ]
  },
  {
   "cell_type": "markdown",
   "id": "0dcc0d5a-2c3c-49d3-8ac7-e53695f6f685",
   "metadata": {},
   "source": [
    "### Getting the data"
   ]
  },
  {
   "cell_type": "code",
   "execution_count": 3,
   "id": "badc701a-c950-4114-a577-2701c86c799a",
   "metadata": {},
   "outputs": [
    {
     "data": {
      "text/html": [
       "<div>\n",
       "<style scoped>\n",
       "    .dataframe tbody tr th:only-of-type {\n",
       "        vertical-align: middle;\n",
       "    }\n",
       "\n",
       "    .dataframe tbody tr th {\n",
       "        vertical-align: top;\n",
       "    }\n",
       "\n",
       "    .dataframe thead th {\n",
       "        text-align: right;\n",
       "    }\n",
       "</style>\n",
       "<table border=\"1\" class=\"dataframe\">\n",
       "  <thead>\n",
       "    <tr style=\"text-align: right;\">\n",
       "      <th></th>\n",
       "      <th>age</th>\n",
       "      <th>sex</th>\n",
       "      <th>bmi</th>\n",
       "      <th>children</th>\n",
       "      <th>smoker</th>\n",
       "      <th>region</th>\n",
       "      <th>charges</th>\n",
       "    </tr>\n",
       "  </thead>\n",
       "  <tbody>\n",
       "    <tr>\n",
       "      <th>0</th>\n",
       "      <td>19</td>\n",
       "      <td>female</td>\n",
       "      <td>27.900</td>\n",
       "      <td>0</td>\n",
       "      <td>yes</td>\n",
       "      <td>southwest</td>\n",
       "      <td>16884.92400</td>\n",
       "    </tr>\n",
       "    <tr>\n",
       "      <th>1</th>\n",
       "      <td>18</td>\n",
       "      <td>male</td>\n",
       "      <td>33.770</td>\n",
       "      <td>1</td>\n",
       "      <td>no</td>\n",
       "      <td>southeast</td>\n",
       "      <td>1725.55230</td>\n",
       "    </tr>\n",
       "    <tr>\n",
       "      <th>2</th>\n",
       "      <td>28</td>\n",
       "      <td>male</td>\n",
       "      <td>33.000</td>\n",
       "      <td>3</td>\n",
       "      <td>no</td>\n",
       "      <td>southeast</td>\n",
       "      <td>4449.46200</td>\n",
       "    </tr>\n",
       "    <tr>\n",
       "      <th>3</th>\n",
       "      <td>33</td>\n",
       "      <td>male</td>\n",
       "      <td>22.705</td>\n",
       "      <td>0</td>\n",
       "      <td>no</td>\n",
       "      <td>northwest</td>\n",
       "      <td>21984.47061</td>\n",
       "    </tr>\n",
       "    <tr>\n",
       "      <th>4</th>\n",
       "      <td>32</td>\n",
       "      <td>male</td>\n",
       "      <td>28.880</td>\n",
       "      <td>0</td>\n",
       "      <td>no</td>\n",
       "      <td>northwest</td>\n",
       "      <td>3866.85520</td>\n",
       "    </tr>\n",
       "  </tbody>\n",
       "</table>\n",
       "</div>"
      ],
      "text/plain": [
       "   age     sex     bmi  children smoker     region      charges\n",
       "0   19  female  27.900         0    yes  southwest  16884.92400\n",
       "1   18    male  33.770         1     no  southeast   1725.55230\n",
       "2   28    male  33.000         3     no  southeast   4449.46200\n",
       "3   33    male  22.705         0     no  northwest  21984.47061\n",
       "4   32    male  28.880         0     no  northwest   3866.85520"
      ]
     },
     "execution_count": 3,
     "metadata": {},
     "output_type": "execute_result"
    }
   ],
   "source": [
    "data = pd.read_csv('./input/insurance.csv')\n",
    "data.head()"
   ]
  },
  {
   "cell_type": "code",
   "execution_count": 4,
   "id": "de08e6e1-639d-42ef-ba31-5236c75917d5",
   "metadata": {},
   "outputs": [
    {
     "data": {
      "text/plain": [
       "(1338, 7)"
      ]
     },
     "execution_count": 4,
     "metadata": {},
     "output_type": "execute_result"
    }
   ],
   "source": [
    "data.shape"
   ]
  },
  {
   "cell_type": "code",
   "execution_count": 5,
   "id": "7be14601-5556-413d-93e8-1db658391050",
   "metadata": {},
   "outputs": [
    {
     "data": {
      "text/plain": [
       "age           int64\n",
       "sex          object\n",
       "bmi         float64\n",
       "children      int64\n",
       "smoker       object\n",
       "region       object\n",
       "charges     float64\n",
       "dtype: object"
      ]
     },
     "execution_count": 5,
     "metadata": {},
     "output_type": "execute_result"
    }
   ],
   "source": [
    "data.dtypes"
   ]
  },
  {
   "cell_type": "code",
   "execution_count": 6,
   "id": "844cf9ec-32ec-42da-af98-3917e5ee1586",
   "metadata": {},
   "outputs": [
    {
     "name": "stdout",
     "output_type": "stream",
     "text": [
      "male      676\n",
      "female    662\n",
      "Name: sex, dtype: int64\n",
      "no     1064\n",
      "yes     274\n",
      "Name: smoker, dtype: int64\n",
      "southeast    364\n",
      "southwest    325\n",
      "northwest    325\n",
      "northeast    324\n",
      "Name: region, dtype: int64\n"
     ]
    }
   ],
   "source": [
    "print(data['sex'].value_counts())\n",
    "print(data['smoker'].value_counts())\n",
    "print(data['region'].value_counts())"
   ]
  },
  {
   "cell_type": "code",
   "execution_count": 7,
   "id": "4fccd952-aa39-470b-af69-1949da762289",
   "metadata": {},
   "outputs": [
    {
     "data": {
      "text/plain": [
       "age         0\n",
       "sex         0\n",
       "bmi         0\n",
       "children    0\n",
       "smoker      0\n",
       "region      0\n",
       "charges     0\n",
       "dtype: int64"
      ]
     },
     "execution_count": 7,
     "metadata": {},
     "output_type": "execute_result"
    }
   ],
   "source": [
    "data.isnull().sum()"
   ]
  },
  {
   "cell_type": "code",
   "execution_count": 8,
   "id": "ce64474e-d4f2-4ef3-9a1e-451a888ffc06",
   "metadata": {},
   "outputs": [
    {
     "data": {
      "text/html": [
       "<div>\n",
       "<style scoped>\n",
       "    .dataframe tbody tr th:only-of-type {\n",
       "        vertical-align: middle;\n",
       "    }\n",
       "\n",
       "    .dataframe tbody tr th {\n",
       "        vertical-align: top;\n",
       "    }\n",
       "\n",
       "    .dataframe thead th {\n",
       "        text-align: right;\n",
       "    }\n",
       "</style>\n",
       "<table border=\"1\" class=\"dataframe\">\n",
       "  <thead>\n",
       "    <tr style=\"text-align: right;\">\n",
       "      <th></th>\n",
       "      <th>age</th>\n",
       "      <th>bmi</th>\n",
       "      <th>children</th>\n",
       "      <th>charges</th>\n",
       "    </tr>\n",
       "  </thead>\n",
       "  <tbody>\n",
       "    <tr>\n",
       "      <th>count</th>\n",
       "      <td>1338.000000</td>\n",
       "      <td>1338.000000</td>\n",
       "      <td>1338.000000</td>\n",
       "      <td>1338.000000</td>\n",
       "    </tr>\n",
       "    <tr>\n",
       "      <th>mean</th>\n",
       "      <td>39.207025</td>\n",
       "      <td>30.663397</td>\n",
       "      <td>1.094918</td>\n",
       "      <td>13270.422265</td>\n",
       "    </tr>\n",
       "    <tr>\n",
       "      <th>std</th>\n",
       "      <td>14.049960</td>\n",
       "      <td>6.098187</td>\n",
       "      <td>1.205493</td>\n",
       "      <td>12110.011237</td>\n",
       "    </tr>\n",
       "    <tr>\n",
       "      <th>min</th>\n",
       "      <td>18.000000</td>\n",
       "      <td>15.960000</td>\n",
       "      <td>0.000000</td>\n",
       "      <td>1121.873900</td>\n",
       "    </tr>\n",
       "    <tr>\n",
       "      <th>25%</th>\n",
       "      <td>27.000000</td>\n",
       "      <td>26.296250</td>\n",
       "      <td>0.000000</td>\n",
       "      <td>4740.287150</td>\n",
       "    </tr>\n",
       "    <tr>\n",
       "      <th>50%</th>\n",
       "      <td>39.000000</td>\n",
       "      <td>30.400000</td>\n",
       "      <td>1.000000</td>\n",
       "      <td>9382.033000</td>\n",
       "    </tr>\n",
       "    <tr>\n",
       "      <th>75%</th>\n",
       "      <td>51.000000</td>\n",
       "      <td>34.693750</td>\n",
       "      <td>2.000000</td>\n",
       "      <td>16639.912515</td>\n",
       "    </tr>\n",
       "    <tr>\n",
       "      <th>max</th>\n",
       "      <td>64.000000</td>\n",
       "      <td>53.130000</td>\n",
       "      <td>5.000000</td>\n",
       "      <td>63770.428010</td>\n",
       "    </tr>\n",
       "    <tr>\n",
       "      <th>range</th>\n",
       "      <td>46.000000</td>\n",
       "      <td>37.170000</td>\n",
       "      <td>5.000000</td>\n",
       "      <td>62648.554110</td>\n",
       "    </tr>\n",
       "  </tbody>\n",
       "</table>\n",
       "</div>"
      ],
      "text/plain": [
       "               age          bmi     children       charges\n",
       "count  1338.000000  1338.000000  1338.000000   1338.000000\n",
       "mean     39.207025    30.663397     1.094918  13270.422265\n",
       "std      14.049960     6.098187     1.205493  12110.011237\n",
       "min      18.000000    15.960000     0.000000   1121.873900\n",
       "25%      27.000000    26.296250     0.000000   4740.287150\n",
       "50%      39.000000    30.400000     1.000000   9382.033000\n",
       "75%      51.000000    34.693750     2.000000  16639.912515\n",
       "max      64.000000    53.130000     5.000000  63770.428010\n",
       "range    46.000000    37.170000     5.000000  62648.554110"
      ]
     },
     "execution_count": 8,
     "metadata": {},
     "output_type": "execute_result"
    }
   ],
   "source": [
    "stats = data.describe()\n",
    "stats = stats.append((data.loc[:,['age', 'bmi', 'children', 'charges']].max() - data.loc[:,['age', 'bmi', 'children', 'charges']].min()).rename('range'))\n",
    "stats"
   ]
  },
  {
   "cell_type": "markdown",
   "id": "7dcf1772-037f-4d86-af91-e85ae01c82c6",
   "metadata": {},
   "source": [
    "- Al examinar los datos es posible percatarse que la data no requiere de imputación de valores ya que no presenta valores faltantes\n",
    "- De las 6 variables independientes 3 de ellas son categóricas por lo que requieren de una codificación de valores\n",
    "- Las variables numéricas evaluadas se encuentran en distintas dimensionalidades (años, kg/m^2, dolares, etc)"
   ]
  },
  {
   "cell_type": "markdown",
   "id": "66f3665b-1498-47e4-941b-d4c56015d7c1",
   "metadata": {},
   "source": [
    "### Cleaning Data"
   ]
  },
  {
   "cell_type": "code",
   "execution_count": 9,
   "id": "45a32bc3-58e6-4c8b-b0e1-246098f5c59b",
   "metadata": {},
   "outputs": [
    {
     "data": {
      "text/html": [
       "<div>\n",
       "<style scoped>\n",
       "    .dataframe tbody tr th:only-of-type {\n",
       "        vertical-align: middle;\n",
       "    }\n",
       "\n",
       "    .dataframe tbody tr th {\n",
       "        vertical-align: top;\n",
       "    }\n",
       "\n",
       "    .dataframe thead th {\n",
       "        text-align: right;\n",
       "    }\n",
       "</style>\n",
       "<table border=\"1\" class=\"dataframe\">\n",
       "  <thead>\n",
       "    <tr style=\"text-align: right;\">\n",
       "      <th></th>\n",
       "      <th>age</th>\n",
       "      <th>bmi</th>\n",
       "      <th>children</th>\n",
       "      <th>charges</th>\n",
       "      <th>gender_female</th>\n",
       "      <th>gender_male</th>\n",
       "      <th>region_northeast</th>\n",
       "      <th>region_northwest</th>\n",
       "      <th>region_southeast</th>\n",
       "      <th>region_southwest</th>\n",
       "      <th>smokes_no</th>\n",
       "      <th>smokes_yes</th>\n",
       "    </tr>\n",
       "  </thead>\n",
       "  <tbody>\n",
       "    <tr>\n",
       "      <th>0</th>\n",
       "      <td>19</td>\n",
       "      <td>27.900</td>\n",
       "      <td>0</td>\n",
       "      <td>16884.92400</td>\n",
       "      <td>1</td>\n",
       "      <td>0</td>\n",
       "      <td>0</td>\n",
       "      <td>0</td>\n",
       "      <td>0</td>\n",
       "      <td>1</td>\n",
       "      <td>0</td>\n",
       "      <td>1</td>\n",
       "    </tr>\n",
       "    <tr>\n",
       "      <th>1</th>\n",
       "      <td>18</td>\n",
       "      <td>33.770</td>\n",
       "      <td>1</td>\n",
       "      <td>1725.55230</td>\n",
       "      <td>0</td>\n",
       "      <td>1</td>\n",
       "      <td>0</td>\n",
       "      <td>0</td>\n",
       "      <td>1</td>\n",
       "      <td>0</td>\n",
       "      <td>1</td>\n",
       "      <td>0</td>\n",
       "    </tr>\n",
       "    <tr>\n",
       "      <th>2</th>\n",
       "      <td>28</td>\n",
       "      <td>33.000</td>\n",
       "      <td>3</td>\n",
       "      <td>4449.46200</td>\n",
       "      <td>0</td>\n",
       "      <td>1</td>\n",
       "      <td>0</td>\n",
       "      <td>0</td>\n",
       "      <td>1</td>\n",
       "      <td>0</td>\n",
       "      <td>1</td>\n",
       "      <td>0</td>\n",
       "    </tr>\n",
       "    <tr>\n",
       "      <th>3</th>\n",
       "      <td>33</td>\n",
       "      <td>22.705</td>\n",
       "      <td>0</td>\n",
       "      <td>21984.47061</td>\n",
       "      <td>0</td>\n",
       "      <td>1</td>\n",
       "      <td>0</td>\n",
       "      <td>1</td>\n",
       "      <td>0</td>\n",
       "      <td>0</td>\n",
       "      <td>1</td>\n",
       "      <td>0</td>\n",
       "    </tr>\n",
       "    <tr>\n",
       "      <th>4</th>\n",
       "      <td>32</td>\n",
       "      <td>28.880</td>\n",
       "      <td>0</td>\n",
       "      <td>3866.85520</td>\n",
       "      <td>0</td>\n",
       "      <td>1</td>\n",
       "      <td>0</td>\n",
       "      <td>1</td>\n",
       "      <td>0</td>\n",
       "      <td>0</td>\n",
       "      <td>1</td>\n",
       "      <td>0</td>\n",
       "    </tr>\n",
       "    <tr>\n",
       "      <th>...</th>\n",
       "      <td>...</td>\n",
       "      <td>...</td>\n",
       "      <td>...</td>\n",
       "      <td>...</td>\n",
       "      <td>...</td>\n",
       "      <td>...</td>\n",
       "      <td>...</td>\n",
       "      <td>...</td>\n",
       "      <td>...</td>\n",
       "      <td>...</td>\n",
       "      <td>...</td>\n",
       "      <td>...</td>\n",
       "    </tr>\n",
       "    <tr>\n",
       "      <th>1333</th>\n",
       "      <td>50</td>\n",
       "      <td>30.970</td>\n",
       "      <td>3</td>\n",
       "      <td>10600.54830</td>\n",
       "      <td>0</td>\n",
       "      <td>1</td>\n",
       "      <td>0</td>\n",
       "      <td>1</td>\n",
       "      <td>0</td>\n",
       "      <td>0</td>\n",
       "      <td>1</td>\n",
       "      <td>0</td>\n",
       "    </tr>\n",
       "    <tr>\n",
       "      <th>1334</th>\n",
       "      <td>18</td>\n",
       "      <td>31.920</td>\n",
       "      <td>0</td>\n",
       "      <td>2205.98080</td>\n",
       "      <td>1</td>\n",
       "      <td>0</td>\n",
       "      <td>1</td>\n",
       "      <td>0</td>\n",
       "      <td>0</td>\n",
       "      <td>0</td>\n",
       "      <td>1</td>\n",
       "      <td>0</td>\n",
       "    </tr>\n",
       "    <tr>\n",
       "      <th>1335</th>\n",
       "      <td>18</td>\n",
       "      <td>36.850</td>\n",
       "      <td>0</td>\n",
       "      <td>1629.83350</td>\n",
       "      <td>1</td>\n",
       "      <td>0</td>\n",
       "      <td>0</td>\n",
       "      <td>0</td>\n",
       "      <td>1</td>\n",
       "      <td>0</td>\n",
       "      <td>1</td>\n",
       "      <td>0</td>\n",
       "    </tr>\n",
       "    <tr>\n",
       "      <th>1336</th>\n",
       "      <td>21</td>\n",
       "      <td>25.800</td>\n",
       "      <td>0</td>\n",
       "      <td>2007.94500</td>\n",
       "      <td>1</td>\n",
       "      <td>0</td>\n",
       "      <td>0</td>\n",
       "      <td>0</td>\n",
       "      <td>0</td>\n",
       "      <td>1</td>\n",
       "      <td>1</td>\n",
       "      <td>0</td>\n",
       "    </tr>\n",
       "    <tr>\n",
       "      <th>1337</th>\n",
       "      <td>61</td>\n",
       "      <td>29.070</td>\n",
       "      <td>0</td>\n",
       "      <td>29141.36030</td>\n",
       "      <td>1</td>\n",
       "      <td>0</td>\n",
       "      <td>0</td>\n",
       "      <td>1</td>\n",
       "      <td>0</td>\n",
       "      <td>0</td>\n",
       "      <td>0</td>\n",
       "      <td>1</td>\n",
       "    </tr>\n",
       "  </tbody>\n",
       "</table>\n",
       "<p>1338 rows × 12 columns</p>\n",
       "</div>"
      ],
      "text/plain": [
       "      age     bmi  children      charges  gender_female  gender_male  \\\n",
       "0      19  27.900         0  16884.92400              1            0   \n",
       "1      18  33.770         1   1725.55230              0            1   \n",
       "2      28  33.000         3   4449.46200              0            1   \n",
       "3      33  22.705         0  21984.47061              0            1   \n",
       "4      32  28.880         0   3866.85520              0            1   \n",
       "...   ...     ...       ...          ...            ...          ...   \n",
       "1333   50  30.970         3  10600.54830              0            1   \n",
       "1334   18  31.920         0   2205.98080              1            0   \n",
       "1335   18  36.850         0   1629.83350              1            0   \n",
       "1336   21  25.800         0   2007.94500              1            0   \n",
       "1337   61  29.070         0  29141.36030              1            0   \n",
       "\n",
       "      region_northeast  region_northwest  region_southeast  region_southwest  \\\n",
       "0                    0                 0                 0                 1   \n",
       "1                    0                 0                 1                 0   \n",
       "2                    0                 0                 1                 0   \n",
       "3                    0                 1                 0                 0   \n",
       "4                    0                 1                 0                 0   \n",
       "...                ...               ...               ...               ...   \n",
       "1333                 0                 1                 0                 0   \n",
       "1334                 1                 0                 0                 0   \n",
       "1335                 0                 0                 1                 0   \n",
       "1336                 0                 0                 0                 1   \n",
       "1337                 0                 1                 0                 0   \n",
       "\n",
       "      smokes_no  smokes_yes  \n",
       "0             0           1  \n",
       "1             1           0  \n",
       "2             1           0  \n",
       "3             1           0  \n",
       "4             1           0  \n",
       "...         ...         ...  \n",
       "1333          1           0  \n",
       "1334          1           0  \n",
       "1335          1           0  \n",
       "1336          1           0  \n",
       "1337          0           1  \n",
       "\n",
       "[1338 rows x 12 columns]"
      ]
     },
     "execution_count": 9,
     "metadata": {},
     "output_type": "execute_result"
    }
   ],
   "source": [
    "data = pd.get_dummies(data, columns = ['sex', 'region', 'smoker'], prefix = {'sex': 'gender', 'region': 'region', 'smoker': 'smokes'})\n",
    "data"
   ]
  },
  {
   "cell_type": "markdown",
   "id": "53b0c9eb-9af9-4910-b1bf-51c84f63c975",
   "metadata": {},
   "source": [
    "### Train Test Split"
   ]
  },
  {
   "cell_type": "code",
   "execution_count": 10,
   "id": "84728d70-a119-4e47-815a-552f5d66378e",
   "metadata": {},
   "outputs": [],
   "source": [
    "X_train, X_test, y_train, y_test = train_test_split(data.loc[:, data.columns != 'charges'], data[['charges']], test_size = 0.3, random_state = 1)"
   ]
  },
  {
   "cell_type": "code",
   "execution_count": 11,
   "id": "9243cb5d-2728-4a64-883c-b60cba135872",
   "metadata": {},
   "outputs": [
    {
     "name": "stdout",
     "output_type": "stream",
     "text": [
      "(936, 11)\n",
      "(402, 11)\n"
     ]
    }
   ],
   "source": [
    "print(X_train.shape)\n",
    "print(X_test.shape)"
   ]
  },
  {
   "cell_type": "markdown",
   "id": "330d675a-2d01-4c00-8cc5-9a01b98c6d3d",
   "metadata": {},
   "source": [
    "### Data Normalization"
   ]
  },
  {
   "cell_type": "code",
   "execution_count": 12,
   "id": "3201e3b5-56ea-44ef-b4ca-cc2ac59f7202",
   "metadata": {},
   "outputs": [],
   "source": [
    "xscaler = StandardScaler()\n",
    "yscaler = StandardScaler()"
   ]
  },
  {
   "cell_type": "code",
   "execution_count": 13,
   "id": "85d46556-8c36-4b00-b4fc-e61bec6dd87c",
   "metadata": {},
   "outputs": [],
   "source": [
    "X_train = xscaler.fit_transform(X_train)\n",
    "y_train = yscaler.fit_transform(y_train)"
   ]
  },
  {
   "cell_type": "markdown",
   "id": "ae5299bc-e053-43c6-b3ab-3837dff50b24",
   "metadata": {},
   "source": [
    "### MLP Model"
   ]
  },
  {
   "cell_type": "markdown",
   "id": "68cadc75-a6cc-45b6-9fca-61b787cd99a0",
   "metadata": {},
   "source": [
    "##### Callbacks"
   ]
  },
  {
   "cell_type": "code",
   "execution_count": 14,
   "id": "eec2fecd-6e6f-4734-82b4-fcfc3f293779",
   "metadata": {},
   "outputs": [],
   "source": [
    "#remember the number below epochs shows the amount of batches needed to finish an epoch. In this case since X_train has 936 observations and we have a 0.2 data validation = (936 * 0.2) / batch_size\n",
    "batch_size = 32\n",
    "val_split = 0.2\n",
    "freq = math.ceil((X_train.shape[0] * (1-val_split)) / batch_size)\n",
    "checkpoint_path = '.\\checkpoints\\mlp_cp_{epoch:04d}.ckpt'"
   ]
  },
  {
   "cell_type": "code",
   "execution_count": 15,
   "id": "8b3b7201-a580-40b2-8d44-64c7c95f9e35",
   "metadata": {},
   "outputs": [],
   "source": [
    "cp_callback = tf.keras.callbacks.ModelCheckpoint(filepath = checkpoint_path,\n",
    "                                                 save_weights_only = True,\n",
    "                                                 monitor = 'val_mse',\n",
    "                                                 save_freq = 5 * freq, #default to epoch, if not how many batches later should it be saved\n",
    "                                                 verbose = 1)"
   ]
  },
  {
   "cell_type": "code",
   "execution_count": 16,
   "id": "6e1bc773-d397-44dc-8280-e17bf7b42f72",
   "metadata": {},
   "outputs": [],
   "source": [
    "earlystop = tf.keras.callbacks.EarlyStopping(monitor = 'val_mse', patience = 3, verbose = 0, restore_best_weights = True)"
   ]
  },
  {
   "cell_type": "markdown",
   "id": "554886fe-a856-4ea0-b2eb-a6d4edc8d1b1",
   "metadata": {},
   "source": [
    "##### Model"
   ]
  },
  {
   "cell_type": "code",
   "execution_count": 17,
   "id": "cdc0ca26-9572-4635-8179-cde067721c52",
   "metadata": {},
   "outputs": [],
   "source": [
    "model = Sequential([\n",
    "    Dense(units = 32, input_shape = (11, ), activation = 'relu', kernel_initializer = GlorotNormal()),\n",
    "    #Dense(units = 64, activation = 'relu', kernel_initializer = GlorotNormal()),\n",
    "    Dense(units = 1)\n",
    "])"
   ]
  },
  {
   "cell_type": "code",
   "execution_count": null,
   "id": "270fd648-13be-43d0-b09a-d314bb527739",
   "metadata": {},
   "outputs": [],
   "source": [
    "#model.save_weights(checkpoint_path.format(epoch=0))"
   ]
  },
  {
   "cell_type": "code",
   "execution_count": 18,
   "id": "d17f77ef-cc10-4a1f-90ba-73b2739b93f2",
   "metadata": {},
   "outputs": [],
   "source": [
    "model.compile(optimizer = 'adam', loss = 'mean_squared_error', metrics = ['mse'])"
   ]
  },
  {
   "cell_type": "code",
   "execution_count": 19,
   "id": "12bb1324-c33b-4eab-9a8e-4db4662b7797",
   "metadata": {},
   "outputs": [
    {
     "name": "stdout",
     "output_type": "stream",
     "text": [
      "Epoch 1/20\n",
      "24/24 [==============================] - 15s 24ms/step - loss: 1.4415 - mse: 1.4415 - val_loss: 1.1903 - val_mse: 1.1903\n",
      "Epoch 2/20\n",
      "24/24 [==============================] - 0s 5ms/step - loss: 0.9719 - mse: 0.9719 - val_loss: 0.8091 - val_mse: 0.8091\n",
      "Epoch 3/20\n",
      "24/24 [==============================] - 0s 5ms/step - loss: 0.6311 - mse: 0.6311 - val_loss: 0.5794 - val_mse: 0.5794\n",
      "Epoch 4/20\n",
      "24/24 [==============================] - 0s 5ms/step - loss: 0.4468 - mse: 0.4468 - val_loss: 0.4244 - val_mse: 0.4244\n",
      "Epoch 5/20\n",
      "23/24 [===========================>..] - ETA: 0s - loss: 0.3830 - mse: 0.3830\n",
      "Epoch 00005: saving model to .\\checkpoints\\mlp_cp_0005.ckpt\n",
      "24/24 [==============================] - 0s 19ms/step - loss: 0.3796 - mse: 0.3796 - val_loss: 0.3296 - val_mse: 0.3296\n",
      "Epoch 6/20\n",
      "24/24 [==============================] - 0s 6ms/step - loss: 0.2836 - mse: 0.2836 - val_loss: 0.2805 - val_mse: 0.2805\n",
      "Epoch 7/20\n",
      "24/24 [==============================] - 0s 5ms/step - loss: 0.2516 - mse: 0.2516 - val_loss: 0.2540 - val_mse: 0.2540\n",
      "Epoch 8/20\n",
      "24/24 [==============================] - 0s 6ms/step - loss: 0.2628 - mse: 0.2628 - val_loss: 0.2338 - val_mse: 0.2338\n",
      "Epoch 9/20\n",
      "24/24 [==============================] - 0s 5ms/step - loss: 0.2294 - mse: 0.2294 - val_loss: 0.2232 - val_mse: 0.2232\n",
      "Epoch 10/20\n",
      "15/24 [=================>............] - ETA: 0s - loss: 0.1777 - mse: 0.1777\n",
      "Epoch 00010: saving model to .\\checkpoints\\mlp_cp_0010.ckpt\n",
      "24/24 [==============================] - 0s 14ms/step - loss: 0.1960 - mse: 0.1960 - val_loss: 0.2132 - val_mse: 0.2132\n",
      "Epoch 11/20\n",
      "24/24 [==============================] - 0s 5ms/step - loss: 0.2218 - mse: 0.2218 - val_loss: 0.2036 - val_mse: 0.2036\n",
      "Epoch 12/20\n",
      "24/24 [==============================] - 0s 5ms/step - loss: 0.2167 - mse: 0.2167 - val_loss: 0.1993 - val_mse: 0.1993\n",
      "Epoch 13/20\n",
      "24/24 [==============================] - 0s 6ms/step - loss: 0.2130 - mse: 0.2130 - val_loss: 0.1917 - val_mse: 0.1917\n",
      "Epoch 14/20\n",
      "24/24 [==============================] - 0s 5ms/step - loss: 0.2060 - mse: 0.2060 - val_loss: 0.1910 - val_mse: 0.1910\n",
      "Epoch 15/20\n",
      "17/24 [====================>.........] - ETA: 0s - loss: 0.2017 - mse: 0.2017\n",
      "Epoch 00015: saving model to .\\checkpoints\\mlp_cp_0015.ckpt\n",
      "24/24 [==============================] - 0s 14ms/step - loss: 0.1982 - mse: 0.1982 - val_loss: 0.1857 - val_mse: 0.1857\n",
      "Epoch 16/20\n",
      "24/24 [==============================] - 0s 6ms/step - loss: 0.1623 - mse: 0.1623 - val_loss: 0.1815 - val_mse: 0.1815\n",
      "Epoch 17/20\n",
      "24/24 [==============================] - 0s 6ms/step - loss: 0.1653 - mse: 0.1653 - val_loss: 0.1782 - val_mse: 0.1782\n",
      "Epoch 18/20\n",
      "24/24 [==============================] - 0s 5ms/step - loss: 0.1405 - mse: 0.1405 - val_loss: 0.1767 - val_mse: 0.1767\n",
      "Epoch 19/20\n",
      "24/24 [==============================] - 0s 5ms/step - loss: 0.1754 - mse: 0.1754 - val_loss: 0.1747 - val_mse: 0.1747\n",
      "Epoch 20/20\n",
      "17/24 [====================>.........] - ETA: 0s - loss: 0.1581 - mse: 0.1581\n",
      "Epoch 00020: saving model to .\\checkpoints\\mlp_cp_0020.ckpt\n",
      "24/24 [==============================] - 0s 14ms/step - loss: 0.1612 - mse: 0.1612 - val_loss: 0.1732 - val_mse: 0.1732\n",
      "Wall time: 18.6 s\n"
     ]
    }
   ],
   "source": [
    "%%time\n",
    "history = model.fit(\n",
    "                x = X_train, \n",
    "                y = y_train,\n",
    "                epochs = 20,\n",
    "                batch_size = batch_size,\n",
    "                validation_split = val_split,\n",
    "                callbacks = [cp_callback, earlystop]\n",
    "        )"
   ]
  },
  {
   "cell_type": "markdown",
   "id": "1a391126-45f1-4efd-b8ac-1eb93537f585",
   "metadata": {},
   "source": [
    "### Predictions"
   ]
  },
  {
   "cell_type": "code",
   "execution_count": 20,
   "id": "f7fce844-caf5-4f52-845e-57917f8a059b",
   "metadata": {},
   "outputs": [],
   "source": [
    "X_test = xscaler.transform(X_test)"
   ]
  },
  {
   "cell_type": "code",
   "execution_count": 21,
   "id": "2a74cdbb-4cf5-40a3-8786-d1fd6929f3ce",
   "metadata": {},
   "outputs": [],
   "source": [
    "predictions = yscaler.inverse_transform(model.predict(X_test))"
   ]
  },
  {
   "cell_type": "code",
   "execution_count": 22,
   "id": "896ff0b9-ccc0-4a9f-954a-ba6edc507dab",
   "metadata": {},
   "outputs": [
    {
     "data": {
      "text/html": [
       "<div>\n",
       "<style scoped>\n",
       "    .dataframe tbody tr th:only-of-type {\n",
       "        vertical-align: middle;\n",
       "    }\n",
       "\n",
       "    .dataframe tbody tr th {\n",
       "        vertical-align: top;\n",
       "    }\n",
       "\n",
       "    .dataframe thead th {\n",
       "        text-align: right;\n",
       "    }\n",
       "</style>\n",
       "<table border=\"1\" class=\"dataframe\">\n",
       "  <thead>\n",
       "    <tr style=\"text-align: right;\">\n",
       "      <th></th>\n",
       "      <th>charges_prediction</th>\n",
       "      <th>charges</th>\n",
       "    </tr>\n",
       "  </thead>\n",
       "  <tbody>\n",
       "    <tr>\n",
       "      <th>0</th>\n",
       "      <td>2199.160400</td>\n",
       "      <td>1646.4297</td>\n",
       "    </tr>\n",
       "    <tr>\n",
       "      <th>1</th>\n",
       "      <td>12021.620117</td>\n",
       "      <td>11353.2276</td>\n",
       "    </tr>\n",
       "    <tr>\n",
       "      <th>2</th>\n",
       "      <td>9701.579102</td>\n",
       "      <td>8798.5930</td>\n",
       "    </tr>\n",
       "    <tr>\n",
       "      <th>3</th>\n",
       "      <td>13266.162109</td>\n",
       "      <td>10381.4787</td>\n",
       "    </tr>\n",
       "    <tr>\n",
       "      <th>4</th>\n",
       "      <td>4224.144043</td>\n",
       "      <td>2103.0800</td>\n",
       "    </tr>\n",
       "  </tbody>\n",
       "</table>\n",
       "</div>"
      ],
      "text/plain": [
       "   charges_prediction     charges\n",
       "0         2199.160400   1646.4297\n",
       "1        12021.620117  11353.2276\n",
       "2         9701.579102   8798.5930\n",
       "3        13266.162109  10381.4787\n",
       "4         4224.144043   2103.0800"
      ]
     },
     "execution_count": 22,
     "metadata": {},
     "output_type": "execute_result"
    }
   ],
   "source": [
    "results = pd.DataFrame(np.hstack((predictions, y_test)), columns = ['charges_prediction', 'charges'])\n",
    "results.head()"
   ]
  },
  {
   "cell_type": "code",
   "execution_count": 23,
   "id": "40e4154d-6b6b-46c9-bd62-e358f047a18a",
   "metadata": {},
   "outputs": [
    {
     "name": "stdout",
     "output_type": "stream",
     "text": [
      "El MSE final para la data de prueba del modelo es 24608452.819660217\n"
     ]
    }
   ],
   "source": [
    "mse_test = metrics.mean_squared_error(results['charges'], results['charges_prediction'])\n",
    "print('El MSE final para la data de prueba del modelo es {}'.format(mse_test))"
   ]
  }
 ],
 "metadata": {
  "kernelspec": {
   "display_name": "Python 3",
   "language": "python",
   "name": "python3"
  },
  "language_info": {
   "codemirror_mode": {
    "name": "ipython",
    "version": 3
   },
   "file_extension": ".py",
   "mimetype": "text/x-python",
   "name": "python",
   "nbconvert_exporter": "python",
   "pygments_lexer": "ipython3",
   "version": "3.9.4"
  }
 },
 "nbformat": 4,
 "nbformat_minor": 5
}
