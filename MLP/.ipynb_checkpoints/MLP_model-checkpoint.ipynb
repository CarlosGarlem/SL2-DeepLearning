{
 "cells": [
  {
   "cell_type": "markdown",
   "id": "8801d5c1-bed6-4b08-b964-e29e1fb4c079",
   "metadata": {},
   "source": [
    "### Import libraries"
   ]
  },
  {
   "cell_type": "code",
   "execution_count": 1,
   "id": "fdfb850b-e841-40c0-be9a-e87e7c47919b",
   "metadata": {},
   "outputs": [],
   "source": [
    "import math\n",
    "import os\n",
    "import pandas as pd\n",
    "import numpy as np\n",
    "import matplotlib.pyplot as plt\n",
    "from sklearn.preprocessing import StandardScaler\n",
    "from sklearn.model_selection import train_test_split\n",
    "from sklearn import metrics"
   ]
  },
  {
   "cell_type": "code",
   "execution_count": 2,
   "id": "d25c671d-123a-4673-9ad9-f22e86df48f9",
   "metadata": {},
   "outputs": [],
   "source": [
    "import tensorflow as tf\n",
    "from keras.models import load_model\n",
    "from keras.models import Sequential\n",
    "from keras.layers import Dense, Dropout\n",
    "from keras.initializers import GlorotNormal, GlorotUniform"
   ]
  },
  {
   "cell_type": "markdown",
   "id": "0dcc0d5a-2c3c-49d3-8ac7-e53695f6f685",
   "metadata": {},
   "source": [
    "### Getting the data"
   ]
  },
  {
   "cell_type": "code",
   "execution_count": 3,
   "id": "badc701a-c950-4114-a577-2701c86c799a",
   "metadata": {},
   "outputs": [
    {
     "data": {
      "text/html": [
       "<div>\n",
       "<style scoped>\n",
       "    .dataframe tbody tr th:only-of-type {\n",
       "        vertical-align: middle;\n",
       "    }\n",
       "\n",
       "    .dataframe tbody tr th {\n",
       "        vertical-align: top;\n",
       "    }\n",
       "\n",
       "    .dataframe thead th {\n",
       "        text-align: right;\n",
       "    }\n",
       "</style>\n",
       "<table border=\"1\" class=\"dataframe\">\n",
       "  <thead>\n",
       "    <tr style=\"text-align: right;\">\n",
       "      <th></th>\n",
       "      <th>age</th>\n",
       "      <th>sex</th>\n",
       "      <th>bmi</th>\n",
       "      <th>children</th>\n",
       "      <th>smoker</th>\n",
       "      <th>region</th>\n",
       "      <th>charges</th>\n",
       "    </tr>\n",
       "  </thead>\n",
       "  <tbody>\n",
       "    <tr>\n",
       "      <th>0</th>\n",
       "      <td>19</td>\n",
       "      <td>female</td>\n",
       "      <td>27.900</td>\n",
       "      <td>0</td>\n",
       "      <td>yes</td>\n",
       "      <td>southwest</td>\n",
       "      <td>16884.92400</td>\n",
       "    </tr>\n",
       "    <tr>\n",
       "      <th>1</th>\n",
       "      <td>18</td>\n",
       "      <td>male</td>\n",
       "      <td>33.770</td>\n",
       "      <td>1</td>\n",
       "      <td>no</td>\n",
       "      <td>southeast</td>\n",
       "      <td>1725.55230</td>\n",
       "    </tr>\n",
       "    <tr>\n",
       "      <th>2</th>\n",
       "      <td>28</td>\n",
       "      <td>male</td>\n",
       "      <td>33.000</td>\n",
       "      <td>3</td>\n",
       "      <td>no</td>\n",
       "      <td>southeast</td>\n",
       "      <td>4449.46200</td>\n",
       "    </tr>\n",
       "    <tr>\n",
       "      <th>3</th>\n",
       "      <td>33</td>\n",
       "      <td>male</td>\n",
       "      <td>22.705</td>\n",
       "      <td>0</td>\n",
       "      <td>no</td>\n",
       "      <td>northwest</td>\n",
       "      <td>21984.47061</td>\n",
       "    </tr>\n",
       "    <tr>\n",
       "      <th>4</th>\n",
       "      <td>32</td>\n",
       "      <td>male</td>\n",
       "      <td>28.880</td>\n",
       "      <td>0</td>\n",
       "      <td>no</td>\n",
       "      <td>northwest</td>\n",
       "      <td>3866.85520</td>\n",
       "    </tr>\n",
       "  </tbody>\n",
       "</table>\n",
       "</div>"
      ],
      "text/plain": [
       "   age     sex     bmi  children smoker     region      charges\n",
       "0   19  female  27.900         0    yes  southwest  16884.92400\n",
       "1   18    male  33.770         1     no  southeast   1725.55230\n",
       "2   28    male  33.000         3     no  southeast   4449.46200\n",
       "3   33    male  22.705         0     no  northwest  21984.47061\n",
       "4   32    male  28.880         0     no  northwest   3866.85520"
      ]
     },
     "execution_count": 3,
     "metadata": {},
     "output_type": "execute_result"
    }
   ],
   "source": [
    "data = pd.read_csv('./input/insurance.csv')\n",
    "data.head()"
   ]
  },
  {
   "cell_type": "code",
   "execution_count": 4,
   "id": "de08e6e1-639d-42ef-ba31-5236c75917d5",
   "metadata": {},
   "outputs": [
    {
     "data": {
      "text/plain": [
       "(1338, 7)"
      ]
     },
     "execution_count": 4,
     "metadata": {},
     "output_type": "execute_result"
    }
   ],
   "source": [
    "data.shape"
   ]
  },
  {
   "cell_type": "code",
   "execution_count": 5,
   "id": "7be14601-5556-413d-93e8-1db658391050",
   "metadata": {},
   "outputs": [
    {
     "data": {
      "text/plain": [
       "age           int64\n",
       "sex          object\n",
       "bmi         float64\n",
       "children      int64\n",
       "smoker       object\n",
       "region       object\n",
       "charges     float64\n",
       "dtype: object"
      ]
     },
     "execution_count": 5,
     "metadata": {},
     "output_type": "execute_result"
    }
   ],
   "source": [
    "data.dtypes"
   ]
  },
  {
   "cell_type": "code",
   "execution_count": 6,
   "id": "844cf9ec-32ec-42da-af98-3917e5ee1586",
   "metadata": {},
   "outputs": [
    {
     "name": "stdout",
     "output_type": "stream",
     "text": [
      "male      676\n",
      "female    662\n",
      "Name: sex, dtype: int64\n",
      "no     1064\n",
      "yes     274\n",
      "Name: smoker, dtype: int64\n",
      "southeast    364\n",
      "southwest    325\n",
      "northwest    325\n",
      "northeast    324\n",
      "Name: region, dtype: int64\n"
     ]
    }
   ],
   "source": [
    "print(data['sex'].value_counts())\n",
    "print(data['smoker'].value_counts())\n",
    "print(data['region'].value_counts())"
   ]
  },
  {
   "cell_type": "code",
   "execution_count": 7,
   "id": "4fccd952-aa39-470b-af69-1949da762289",
   "metadata": {},
   "outputs": [
    {
     "data": {
      "text/plain": [
       "age         0\n",
       "sex         0\n",
       "bmi         0\n",
       "children    0\n",
       "smoker      0\n",
       "region      0\n",
       "charges     0\n",
       "dtype: int64"
      ]
     },
     "execution_count": 7,
     "metadata": {},
     "output_type": "execute_result"
    }
   ],
   "source": [
    "data.isnull().sum()"
   ]
  },
  {
   "cell_type": "code",
   "execution_count": 8,
   "id": "ce64474e-d4f2-4ef3-9a1e-451a888ffc06",
   "metadata": {},
   "outputs": [
    {
     "data": {
      "text/html": [
       "<div>\n",
       "<style scoped>\n",
       "    .dataframe tbody tr th:only-of-type {\n",
       "        vertical-align: middle;\n",
       "    }\n",
       "\n",
       "    .dataframe tbody tr th {\n",
       "        vertical-align: top;\n",
       "    }\n",
       "\n",
       "    .dataframe thead th {\n",
       "        text-align: right;\n",
       "    }\n",
       "</style>\n",
       "<table border=\"1\" class=\"dataframe\">\n",
       "  <thead>\n",
       "    <tr style=\"text-align: right;\">\n",
       "      <th></th>\n",
       "      <th>age</th>\n",
       "      <th>bmi</th>\n",
       "      <th>children</th>\n",
       "      <th>charges</th>\n",
       "    </tr>\n",
       "  </thead>\n",
       "  <tbody>\n",
       "    <tr>\n",
       "      <th>count</th>\n",
       "      <td>1338.000000</td>\n",
       "      <td>1338.000000</td>\n",
       "      <td>1338.000000</td>\n",
       "      <td>1338.000000</td>\n",
       "    </tr>\n",
       "    <tr>\n",
       "      <th>mean</th>\n",
       "      <td>39.207025</td>\n",
       "      <td>30.663397</td>\n",
       "      <td>1.094918</td>\n",
       "      <td>13270.422265</td>\n",
       "    </tr>\n",
       "    <tr>\n",
       "      <th>std</th>\n",
       "      <td>14.049960</td>\n",
       "      <td>6.098187</td>\n",
       "      <td>1.205493</td>\n",
       "      <td>12110.011237</td>\n",
       "    </tr>\n",
       "    <tr>\n",
       "      <th>min</th>\n",
       "      <td>18.000000</td>\n",
       "      <td>15.960000</td>\n",
       "      <td>0.000000</td>\n",
       "      <td>1121.873900</td>\n",
       "    </tr>\n",
       "    <tr>\n",
       "      <th>25%</th>\n",
       "      <td>27.000000</td>\n",
       "      <td>26.296250</td>\n",
       "      <td>0.000000</td>\n",
       "      <td>4740.287150</td>\n",
       "    </tr>\n",
       "    <tr>\n",
       "      <th>50%</th>\n",
       "      <td>39.000000</td>\n",
       "      <td>30.400000</td>\n",
       "      <td>1.000000</td>\n",
       "      <td>9382.033000</td>\n",
       "    </tr>\n",
       "    <tr>\n",
       "      <th>75%</th>\n",
       "      <td>51.000000</td>\n",
       "      <td>34.693750</td>\n",
       "      <td>2.000000</td>\n",
       "      <td>16639.912515</td>\n",
       "    </tr>\n",
       "    <tr>\n",
       "      <th>max</th>\n",
       "      <td>64.000000</td>\n",
       "      <td>53.130000</td>\n",
       "      <td>5.000000</td>\n",
       "      <td>63770.428010</td>\n",
       "    </tr>\n",
       "    <tr>\n",
       "      <th>range</th>\n",
       "      <td>46.000000</td>\n",
       "      <td>37.170000</td>\n",
       "      <td>5.000000</td>\n",
       "      <td>62648.554110</td>\n",
       "    </tr>\n",
       "  </tbody>\n",
       "</table>\n",
       "</div>"
      ],
      "text/plain": [
       "               age          bmi     children       charges\n",
       "count  1338.000000  1338.000000  1338.000000   1338.000000\n",
       "mean     39.207025    30.663397     1.094918  13270.422265\n",
       "std      14.049960     6.098187     1.205493  12110.011237\n",
       "min      18.000000    15.960000     0.000000   1121.873900\n",
       "25%      27.000000    26.296250     0.000000   4740.287150\n",
       "50%      39.000000    30.400000     1.000000   9382.033000\n",
       "75%      51.000000    34.693750     2.000000  16639.912515\n",
       "max      64.000000    53.130000     5.000000  63770.428010\n",
       "range    46.000000    37.170000     5.000000  62648.554110"
      ]
     },
     "execution_count": 8,
     "metadata": {},
     "output_type": "execute_result"
    }
   ],
   "source": [
    "stats = data.describe()\n",
    "stats = stats.append((data.loc[:,['age', 'bmi', 'children', 'charges']].max() - data.loc[:,['age', 'bmi', 'children', 'charges']].min()).rename('range'))\n",
    "stats"
   ]
  },
  {
   "cell_type": "markdown",
   "id": "7dcf1772-037f-4d86-af91-e85ae01c82c6",
   "metadata": {},
   "source": [
    "- Al examinar los datos es posible percatarse que la data no requiere de imputación de valores ya que no presenta valores faltantes\n",
    "- De las 6 variables independientes 3 de ellas son categóricas por lo que requieren de una codificación de valores\n",
    "- Las variables numéricas evaluadas se encuentran en distintas dimensionalidades (años, kg/m^2, dolares, etc)"
   ]
  },
  {
   "cell_type": "markdown",
   "id": "66f3665b-1498-47e4-941b-d4c56015d7c1",
   "metadata": {},
   "source": [
    "### Preparing variables"
   ]
  },
  {
   "cell_type": "code",
   "execution_count": 9,
   "id": "45a32bc3-58e6-4c8b-b0e1-246098f5c59b",
   "metadata": {},
   "outputs": [
    {
     "data": {
      "text/html": [
       "<div>\n",
       "<style scoped>\n",
       "    .dataframe tbody tr th:only-of-type {\n",
       "        vertical-align: middle;\n",
       "    }\n",
       "\n",
       "    .dataframe tbody tr th {\n",
       "        vertical-align: top;\n",
       "    }\n",
       "\n",
       "    .dataframe thead th {\n",
       "        text-align: right;\n",
       "    }\n",
       "</style>\n",
       "<table border=\"1\" class=\"dataframe\">\n",
       "  <thead>\n",
       "    <tr style=\"text-align: right;\">\n",
       "      <th></th>\n",
       "      <th>age</th>\n",
       "      <th>bmi</th>\n",
       "      <th>children</th>\n",
       "      <th>charges</th>\n",
       "      <th>gender_female</th>\n",
       "      <th>gender_male</th>\n",
       "      <th>region_northeast</th>\n",
       "      <th>region_northwest</th>\n",
       "      <th>region_southeast</th>\n",
       "      <th>region_southwest</th>\n",
       "      <th>smokes_no</th>\n",
       "      <th>smokes_yes</th>\n",
       "    </tr>\n",
       "  </thead>\n",
       "  <tbody>\n",
       "    <tr>\n",
       "      <th>0</th>\n",
       "      <td>19</td>\n",
       "      <td>27.900</td>\n",
       "      <td>0</td>\n",
       "      <td>16884.92400</td>\n",
       "      <td>1</td>\n",
       "      <td>0</td>\n",
       "      <td>0</td>\n",
       "      <td>0</td>\n",
       "      <td>0</td>\n",
       "      <td>1</td>\n",
       "      <td>0</td>\n",
       "      <td>1</td>\n",
       "    </tr>\n",
       "    <tr>\n",
       "      <th>1</th>\n",
       "      <td>18</td>\n",
       "      <td>33.770</td>\n",
       "      <td>1</td>\n",
       "      <td>1725.55230</td>\n",
       "      <td>0</td>\n",
       "      <td>1</td>\n",
       "      <td>0</td>\n",
       "      <td>0</td>\n",
       "      <td>1</td>\n",
       "      <td>0</td>\n",
       "      <td>1</td>\n",
       "      <td>0</td>\n",
       "    </tr>\n",
       "    <tr>\n",
       "      <th>2</th>\n",
       "      <td>28</td>\n",
       "      <td>33.000</td>\n",
       "      <td>3</td>\n",
       "      <td>4449.46200</td>\n",
       "      <td>0</td>\n",
       "      <td>1</td>\n",
       "      <td>0</td>\n",
       "      <td>0</td>\n",
       "      <td>1</td>\n",
       "      <td>0</td>\n",
       "      <td>1</td>\n",
       "      <td>0</td>\n",
       "    </tr>\n",
       "    <tr>\n",
       "      <th>3</th>\n",
       "      <td>33</td>\n",
       "      <td>22.705</td>\n",
       "      <td>0</td>\n",
       "      <td>21984.47061</td>\n",
       "      <td>0</td>\n",
       "      <td>1</td>\n",
       "      <td>0</td>\n",
       "      <td>1</td>\n",
       "      <td>0</td>\n",
       "      <td>0</td>\n",
       "      <td>1</td>\n",
       "      <td>0</td>\n",
       "    </tr>\n",
       "    <tr>\n",
       "      <th>4</th>\n",
       "      <td>32</td>\n",
       "      <td>28.880</td>\n",
       "      <td>0</td>\n",
       "      <td>3866.85520</td>\n",
       "      <td>0</td>\n",
       "      <td>1</td>\n",
       "      <td>0</td>\n",
       "      <td>1</td>\n",
       "      <td>0</td>\n",
       "      <td>0</td>\n",
       "      <td>1</td>\n",
       "      <td>0</td>\n",
       "    </tr>\n",
       "    <tr>\n",
       "      <th>...</th>\n",
       "      <td>...</td>\n",
       "      <td>...</td>\n",
       "      <td>...</td>\n",
       "      <td>...</td>\n",
       "      <td>...</td>\n",
       "      <td>...</td>\n",
       "      <td>...</td>\n",
       "      <td>...</td>\n",
       "      <td>...</td>\n",
       "      <td>...</td>\n",
       "      <td>...</td>\n",
       "      <td>...</td>\n",
       "    </tr>\n",
       "    <tr>\n",
       "      <th>1333</th>\n",
       "      <td>50</td>\n",
       "      <td>30.970</td>\n",
       "      <td>3</td>\n",
       "      <td>10600.54830</td>\n",
       "      <td>0</td>\n",
       "      <td>1</td>\n",
       "      <td>0</td>\n",
       "      <td>1</td>\n",
       "      <td>0</td>\n",
       "      <td>0</td>\n",
       "      <td>1</td>\n",
       "      <td>0</td>\n",
       "    </tr>\n",
       "    <tr>\n",
       "      <th>1334</th>\n",
       "      <td>18</td>\n",
       "      <td>31.920</td>\n",
       "      <td>0</td>\n",
       "      <td>2205.98080</td>\n",
       "      <td>1</td>\n",
       "      <td>0</td>\n",
       "      <td>1</td>\n",
       "      <td>0</td>\n",
       "      <td>0</td>\n",
       "      <td>0</td>\n",
       "      <td>1</td>\n",
       "      <td>0</td>\n",
       "    </tr>\n",
       "    <tr>\n",
       "      <th>1335</th>\n",
       "      <td>18</td>\n",
       "      <td>36.850</td>\n",
       "      <td>0</td>\n",
       "      <td>1629.83350</td>\n",
       "      <td>1</td>\n",
       "      <td>0</td>\n",
       "      <td>0</td>\n",
       "      <td>0</td>\n",
       "      <td>1</td>\n",
       "      <td>0</td>\n",
       "      <td>1</td>\n",
       "      <td>0</td>\n",
       "    </tr>\n",
       "    <tr>\n",
       "      <th>1336</th>\n",
       "      <td>21</td>\n",
       "      <td>25.800</td>\n",
       "      <td>0</td>\n",
       "      <td>2007.94500</td>\n",
       "      <td>1</td>\n",
       "      <td>0</td>\n",
       "      <td>0</td>\n",
       "      <td>0</td>\n",
       "      <td>0</td>\n",
       "      <td>1</td>\n",
       "      <td>1</td>\n",
       "      <td>0</td>\n",
       "    </tr>\n",
       "    <tr>\n",
       "      <th>1337</th>\n",
       "      <td>61</td>\n",
       "      <td>29.070</td>\n",
       "      <td>0</td>\n",
       "      <td>29141.36030</td>\n",
       "      <td>1</td>\n",
       "      <td>0</td>\n",
       "      <td>0</td>\n",
       "      <td>1</td>\n",
       "      <td>0</td>\n",
       "      <td>0</td>\n",
       "      <td>0</td>\n",
       "      <td>1</td>\n",
       "    </tr>\n",
       "  </tbody>\n",
       "</table>\n",
       "<p>1338 rows × 12 columns</p>\n",
       "</div>"
      ],
      "text/plain": [
       "      age     bmi  children      charges  gender_female  gender_male  \\\n",
       "0      19  27.900         0  16884.92400              1            0   \n",
       "1      18  33.770         1   1725.55230              0            1   \n",
       "2      28  33.000         3   4449.46200              0            1   \n",
       "3      33  22.705         0  21984.47061              0            1   \n",
       "4      32  28.880         0   3866.85520              0            1   \n",
       "...   ...     ...       ...          ...            ...          ...   \n",
       "1333   50  30.970         3  10600.54830              0            1   \n",
       "1334   18  31.920         0   2205.98080              1            0   \n",
       "1335   18  36.850         0   1629.83350              1            0   \n",
       "1336   21  25.800         0   2007.94500              1            0   \n",
       "1337   61  29.070         0  29141.36030              1            0   \n",
       "\n",
       "      region_northeast  region_northwest  region_southeast  region_southwest  \\\n",
       "0                    0                 0                 0                 1   \n",
       "1                    0                 0                 1                 0   \n",
       "2                    0                 0                 1                 0   \n",
       "3                    0                 1                 0                 0   \n",
       "4                    0                 1                 0                 0   \n",
       "...                ...               ...               ...               ...   \n",
       "1333                 0                 1                 0                 0   \n",
       "1334                 1                 0                 0                 0   \n",
       "1335                 0                 0                 1                 0   \n",
       "1336                 0                 0                 0                 1   \n",
       "1337                 0                 1                 0                 0   \n",
       "\n",
       "      smokes_no  smokes_yes  \n",
       "0             0           1  \n",
       "1             1           0  \n",
       "2             1           0  \n",
       "3             1           0  \n",
       "4             1           0  \n",
       "...         ...         ...  \n",
       "1333          1           0  \n",
       "1334          1           0  \n",
       "1335          1           0  \n",
       "1336          1           0  \n",
       "1337          0           1  \n",
       "\n",
       "[1338 rows x 12 columns]"
      ]
     },
     "execution_count": 9,
     "metadata": {},
     "output_type": "execute_result"
    }
   ],
   "source": [
    "data = pd.get_dummies(data, columns = ['sex', 'region', 'smoker'], prefix = {'sex': 'gender', 'region': 'region', 'smoker': 'smokes'})\n",
    "data"
   ]
  },
  {
   "cell_type": "markdown",
   "id": "53b0c9eb-9af9-4910-b1bf-51c84f63c975",
   "metadata": {},
   "source": [
    "### Train Test Split"
   ]
  },
  {
   "cell_type": "code",
   "execution_count": 10,
   "id": "84728d70-a119-4e47-815a-552f5d66378e",
   "metadata": {},
   "outputs": [],
   "source": [
    "X_train, X_test, y_train, y_test = train_test_split(data.loc[:, data.columns != 'charges'], data[['charges']], test_size = 0.3, random_state = 123)"
   ]
  },
  {
   "cell_type": "code",
   "execution_count": 11,
   "id": "9243cb5d-2728-4a64-883c-b60cba135872",
   "metadata": {},
   "outputs": [
    {
     "name": "stdout",
     "output_type": "stream",
     "text": [
      "(936, 11)\n",
      "(402, 11)\n"
     ]
    }
   ],
   "source": [
    "print(X_train.shape)\n",
    "print(X_test.shape)"
   ]
  },
  {
   "cell_type": "markdown",
   "id": "330d675a-2d01-4c00-8cc5-9a01b98c6d3d",
   "metadata": {},
   "source": [
    "### Data Normalization"
   ]
  },
  {
   "cell_type": "code",
   "execution_count": 12,
   "id": "3201e3b5-56ea-44ef-b4ca-cc2ac59f7202",
   "metadata": {},
   "outputs": [],
   "source": [
    "xscaler = StandardScaler()\n",
    "yscaler = StandardScaler()"
   ]
  },
  {
   "cell_type": "code",
   "execution_count": 13,
   "id": "85d46556-8c36-4b00-b4fc-e61bec6dd87c",
   "metadata": {},
   "outputs": [],
   "source": [
    "X_train = xscaler.fit_transform(X_train)\n",
    "y_train = yscaler.fit_transform(y_train)"
   ]
  },
  {
   "cell_type": "markdown",
   "id": "cd09b4cf-1465-49e8-ba98-3606441ea168",
   "metadata": {},
   "source": [
    "### Auxiliary functions"
   ]
  },
  {
   "cell_type": "code",
   "execution_count": 14,
   "id": "250a405e-aba9-46c8-bf65-3f0db27a7501",
   "metadata": {},
   "outputs": [],
   "source": [
    "def setModelResults():\n",
    "    #Get model ID\n",
    "    with open('./models/model_results.csv') as file:\n",
    "        lines = file.readlines()  \n",
    "    model_id = len(lines)\n",
    "            \n",
    "    #Prepare directory\n",
    "    path = './models/' + 'mlp_model{}'.format(model_id)\n",
    "    if not os.path.exists(path):\n",
    "        os.makedirs(path)       \n",
    "        \n",
    "    return model_id"
   ]
  },
  {
   "cell_type": "code",
   "execution_count": 15,
   "id": "1741208e-ea40-48d5-817c-42efad225d60",
   "metadata": {},
   "outputs": [],
   "source": [
    "def writeModelResults(results, model):\n",
    "    results.to_csv('./results/model_results.csv', mode = 'a', header = False, index = False)\n",
    "    print('Model results saved succesfully')\n",
    "    return "
   ]
  },
  {
   "cell_type": "markdown",
   "id": "ae5299bc-e053-43c6-b3ab-3837dff50b24",
   "metadata": {},
   "source": [
    "### MLP Model"
   ]
  },
  {
   "cell_type": "code",
   "execution_count": 16,
   "id": "9315cabb-4d3d-40fb-9ff3-59d95f074822",
   "metadata": {},
   "outputs": [
    {
     "data": {
      "text/plain": [
       "2"
      ]
     },
     "execution_count": 16,
     "metadata": {},
     "output_type": "execute_result"
    }
   ],
   "source": [
    "model_id = setModelResults()\n",
    "model_id"
   ]
  },
  {
   "cell_type": "markdown",
   "id": "68cadc75-a6cc-45b6-9fca-61b787cd99a0",
   "metadata": {},
   "source": [
    "##### Callbacks"
   ]
  },
  {
   "cell_type": "code",
   "execution_count": 17,
   "id": "eec2fecd-6e6f-4734-82b4-fcfc3f293779",
   "metadata": {},
   "outputs": [],
   "source": [
    "#remember the number below epochs shows the amount of batches needed to finish an epoch. In this case since X_train has 936 observations and we have a 0.2 data validation = (936 * 0.2) / batch_size\n",
    "batch_size = 64\n",
    "val_split = 0.2\n",
    "freq = math.ceil((X_train.shape[0] * (1-val_split)) / batch_size)\n",
    "checkpoint_path = './models/mlp_model{}/mlp_cp.ckpt'.format(model_id)\n",
    "#checkpoint_path = './checkpoints/mlp_cp_{epoch:04d}.ckpt'"
   ]
  },
  {
   "cell_type": "code",
   "execution_count": 18,
   "id": "8b3b7201-a580-40b2-8d44-64c7c95f9e35",
   "metadata": {},
   "outputs": [],
   "source": [
    "cp_callback = tf.keras.callbacks.ModelCheckpoint(filepath = checkpoint_path,\n",
    "                                                 save_weights_only = True,\n",
    "                                                 monitor = 'val_mse',\n",
    "                                                 save_best_only = True,\n",
    "                                                 #save_freq = 5 * freq, #default to epoch, if not how many batches later should it be saved\n",
    "                                                 verbose = 1)"
   ]
  },
  {
   "cell_type": "code",
   "execution_count": 19,
   "id": "6e1bc773-d397-44dc-8280-e17bf7b42f72",
   "metadata": {},
   "outputs": [],
   "source": [
    "earlystop = tf.keras.callbacks.EarlyStopping(monitor = 'val_mse', patience = 20, verbose = 0, restore_best_weights = True)"
   ]
  },
  {
   "cell_type": "markdown",
   "id": "554886fe-a856-4ea0-b2eb-a6d4edc8d1b1",
   "metadata": {},
   "source": [
    "##### Model"
   ]
  },
  {
   "cell_type": "code",
   "execution_count": 20,
   "id": "cdc0ca26-9572-4635-8179-cde067721c52",
   "metadata": {},
   "outputs": [],
   "source": [
    "model = Sequential([\n",
    "    Dense(units = 1024, input_shape = (11, ), activation = 'relu', kernel_initializer = GlorotUniform()),\n",
    "    Dropout(0.3),\n",
    "    Dense(units = 1024, activation = 'relu', kernel_initializer = GlorotUniform()),\n",
    "    Dropout(0.3),\n",
    "    Dense(units = 512, activation = 'relu', kernel_initializer = GlorotUniform()),\n",
    "    Dropout(0.3),\n",
    "    Dense(units = 1)\n",
    "])"
   ]
  },
  {
   "cell_type": "code",
   "execution_count": 21,
   "id": "d17f77ef-cc10-4a1f-90ba-73b2739b93f2",
   "metadata": {},
   "outputs": [],
   "source": [
    "model.compile(optimizer = 'adam', loss = 'mean_squared_error', metrics = ['mse'])"
   ]
  },
  {
   "cell_type": "code",
   "execution_count": 22,
   "id": "feebfa76-e52c-43ee-920f-499b6d10b701",
   "metadata": {},
   "outputs": [],
   "source": [
    "model_path = './models/mlp_model{}/mlp_model.h5'.format(model_id)\n",
    "model.save(model_path)"
   ]
  },
  {
   "cell_type": "code",
   "execution_count": 23,
   "id": "12bb1324-c33b-4eab-9a8e-4db4662b7797",
   "metadata": {},
   "outputs": [
    {
     "name": "stdout",
     "output_type": "stream",
     "text": [
      "Epoch 1/50\n",
      "12/12 [==============================] - 15s 53ms/step - loss: 0.4493 - mse: 0.4493 - val_loss: 0.4335 - val_mse: 0.4335\n",
      "\n",
      "Epoch 00001: val_mse improved from inf to 0.43354, saving model to ./models/mlp_model2\\mlp_cp.ckpt\n",
      "Epoch 2/50\n",
      "12/12 [==============================] - 0s 17ms/step - loss: 0.2801 - mse: 0.2801 - val_loss: 0.2001 - val_mse: 0.2001\n",
      "\n",
      "Epoch 00002: val_mse improved from 0.43354 to 0.20005, saving model to ./models/mlp_model2\\mlp_cp.ckpt\n",
      "Epoch 3/50\n",
      "12/12 [==============================] - 0s 19ms/step - loss: 0.1924 - mse: 0.1924 - val_loss: 0.1761 - val_mse: 0.1761\n",
      "\n",
      "Epoch 00003: val_mse improved from 0.20005 to 0.17611, saving model to ./models/mlp_model2\\mlp_cp.ckpt\n",
      "Epoch 4/50\n",
      "12/12 [==============================] - 0s 18ms/step - loss: 0.1899 - mse: 0.1899 - val_loss: 0.1733 - val_mse: 0.1733\n",
      "\n",
      "Epoch 00004: val_mse improved from 0.17611 to 0.17335, saving model to ./models/mlp_model2\\mlp_cp.ckpt\n",
      "Epoch 5/50\n",
      "12/12 [==============================] - 0s 24ms/step - loss: 0.1758 - mse: 0.1758 - val_loss: 0.1828 - val_mse: 0.1828\n",
      "\n",
      "Epoch 00005: val_mse did not improve from 0.17335\n",
      "Epoch 6/50\n",
      "12/12 [==============================] - 0s 15ms/step - loss: 0.1781 - mse: 0.1781 - val_loss: 0.1903 - val_mse: 0.1903\n",
      "\n",
      "Epoch 00006: val_mse did not improve from 0.17335\n",
      "Epoch 7/50\n",
      "12/12 [==============================] - 0s 17ms/step - loss: 0.1731 - mse: 0.1731 - val_loss: 0.1790 - val_mse: 0.1790\n",
      "\n",
      "Epoch 00007: val_mse did not improve from 0.17335\n",
      "Epoch 8/50\n",
      "12/12 [==============================] - 0s 26ms/step - loss: 0.1673 - mse: 0.1673 - val_loss: 0.1927 - val_mse: 0.1927\n",
      "\n",
      "Epoch 00008: val_mse did not improve from 0.17335\n",
      "Epoch 9/50\n",
      "12/12 [==============================] - 0s 18ms/step - loss: 0.1728 - mse: 0.1728 - val_loss: 0.1784 - val_mse: 0.1784\n",
      "\n",
      "Epoch 00009: val_mse did not improve from 0.17335\n",
      "Epoch 10/50\n",
      "12/12 [==============================] - 0s 16ms/step - loss: 0.1794 - mse: 0.1794 - val_loss: 0.1763 - val_mse: 0.1763\n",
      "\n",
      "Epoch 00010: val_mse did not improve from 0.17335\n",
      "Epoch 11/50\n",
      "12/12 [==============================] - 0s 25ms/step - loss: 0.1561 - mse: 0.1561 - val_loss: 0.1850 - val_mse: 0.1850\n",
      "\n",
      "Epoch 00011: val_mse did not improve from 0.17335\n",
      "Epoch 12/50\n",
      "12/12 [==============================] - 0s 16ms/step - loss: 0.1602 - mse: 0.1602 - val_loss: 0.1848 - val_mse: 0.1848\n",
      "\n",
      "Epoch 00012: val_mse did not improve from 0.17335\n",
      "Epoch 13/50\n",
      "12/12 [==============================] - 0s 15ms/step - loss: 0.1646 - mse: 0.1646 - val_loss: 0.1888 - val_mse: 0.1888\n",
      "\n",
      "Epoch 00013: val_mse did not improve from 0.17335\n",
      "Epoch 14/50\n",
      "12/12 [==============================] - 0s 25ms/step - loss: 0.1589 - mse: 0.1589 - val_loss: 0.2006 - val_mse: 0.2006\n",
      "\n",
      "Epoch 00014: val_mse did not improve from 0.17335\n",
      "Epoch 15/50\n",
      "12/12 [==============================] - 0s 16ms/step - loss: 0.1728 - mse: 0.1728 - val_loss: 0.1862 - val_mse: 0.1862\n",
      "\n",
      "Epoch 00015: val_mse did not improve from 0.17335\n",
      "Epoch 16/50\n",
      "12/12 [==============================] - 0s 17ms/step - loss: 0.1774 - mse: 0.1774 - val_loss: 0.1853 - val_mse: 0.1853\n",
      "\n",
      "Epoch 00016: val_mse did not improve from 0.17335\n",
      "Epoch 17/50\n",
      "12/12 [==============================] - 0s 11ms/step - loss: 0.1504 - mse: 0.1504 - val_loss: 0.1889 - val_mse: 0.1889\n",
      "\n",
      "Epoch 00017: val_mse did not improve from 0.17335\n",
      "Epoch 18/50\n",
      "12/12 [==============================] - 0s 12ms/step - loss: 0.1487 - mse: 0.1487 - val_loss: 0.1902 - val_mse: 0.1902\n",
      "\n",
      "Epoch 00018: val_mse did not improve from 0.17335\n",
      "Epoch 19/50\n",
      "12/12 [==============================] - 0s 12ms/step - loss: 0.1511 - mse: 0.1511 - val_loss: 0.1855 - val_mse: 0.1855\n",
      "\n",
      "Epoch 00019: val_mse did not improve from 0.17335\n",
      "Epoch 20/50\n",
      "12/12 [==============================] - 0s 11ms/step - loss: 0.1482 - mse: 0.1482 - val_loss: 0.2058 - val_mse: 0.2058\n",
      "\n",
      "Epoch 00020: val_mse did not improve from 0.17335\n",
      "Epoch 21/50\n",
      "12/12 [==============================] - 0s 11ms/step - loss: 0.1472 - mse: 0.1472 - val_loss: 0.1989 - val_mse: 0.1989\n",
      "\n",
      "Epoch 00021: val_mse did not improve from 0.17335\n",
      "Epoch 22/50\n",
      "12/12 [==============================] - 0s 11ms/step - loss: 0.1580 - mse: 0.1580 - val_loss: 0.2156 - val_mse: 0.2156\n",
      "\n",
      "Epoch 00022: val_mse did not improve from 0.17335\n",
      "Epoch 23/50\n",
      "12/12 [==============================] - 0s 11ms/step - loss: 0.1569 - mse: 0.1569 - val_loss: 0.1944 - val_mse: 0.1944\n",
      "\n",
      "Epoch 00023: val_mse did not improve from 0.17335\n",
      "Epoch 24/50\n",
      "12/12 [==============================] - 0s 11ms/step - loss: 0.1548 - mse: 0.1548 - val_loss: 0.1943 - val_mse: 0.1943\n",
      "\n",
      "Epoch 00024: val_mse did not improve from 0.17335\n",
      "Wall time: 22.1 s\n"
     ]
    }
   ],
   "source": [
    "%%time\n",
    "history = model.fit(\n",
    "                x = X_train, \n",
    "                y = y_train,\n",
    "                epochs = 50,\n",
    "                batch_size = batch_size,\n",
    "                validation_split = val_split,\n",
    "                callbacks = [cp_callback, earlystop]\n",
    "        )"
   ]
  },
  {
   "cell_type": "markdown",
   "id": "f51c2b59-f931-4111-bbe9-1ef5fbc85312",
   "metadata": {},
   "source": [
    "##### Evaluate training results"
   ]
  },
  {
   "cell_type": "code",
   "execution_count": 24,
   "id": "70da179f-493b-4fc6-bcef-21d0868ad0b8",
   "metadata": {},
   "outputs": [
    {
     "name": "stdout",
     "output_type": "stream",
     "text": [
      "Model: \"sequential\"\n",
      "_________________________________________________________________\n",
      "Layer (type)                 Output Shape              Param #   \n",
      "=================================================================\n",
      "dense (Dense)                (None, 1024)              12288     \n",
      "_________________________________________________________________\n",
      "dropout (Dropout)            (None, 1024)              0         \n",
      "_________________________________________________________________\n",
      "dense_1 (Dense)              (None, 1024)              1049600   \n",
      "_________________________________________________________________\n",
      "dropout_1 (Dropout)          (None, 1024)              0         \n",
      "_________________________________________________________________\n",
      "dense_2 (Dense)              (None, 512)               524800    \n",
      "_________________________________________________________________\n",
      "dropout_2 (Dropout)          (None, 512)               0         \n",
      "_________________________________________________________________\n",
      "dense_3 (Dense)              (None, 1)                 513       \n",
      "=================================================================\n",
      "Total params: 1,587,201\n",
      "Trainable params: 1,587,201\n",
      "Non-trainable params: 0\n",
      "_________________________________________________________________\n"
     ]
    }
   ],
   "source": [
    "model.summary()"
   ]
  },
  {
   "cell_type": "code",
   "execution_count": 25,
   "id": "64d95c6e-70f1-44bc-9643-2c8bda0874ed",
   "metadata": {},
   "outputs": [
    {
     "data": {
      "text/plain": [
       "dict_keys(['loss', 'mse', 'val_loss', 'val_mse'])"
      ]
     },
     "execution_count": 25,
     "metadata": {},
     "output_type": "execute_result"
    }
   ],
   "source": [
    "history.history.keys()"
   ]
  },
  {
   "cell_type": "code",
   "execution_count": 26,
   "id": "e54d5c0c-ec82-4bd0-b37a-aea80f980811",
   "metadata": {},
   "outputs": [
    {
     "data": {
      "text/plain": [
       "Text(0.5, 0, 'epoch')"
      ]
     },
     "execution_count": 26,
     "metadata": {},
     "output_type": "execute_result"
    },
    {
     "data": {
      "image/png": "[encoded data removed]",
      "text/plain": [
       "<Figure size 432x288 with 1 Axes>"
      ]
     },
     "metadata": {
      "needs_background": "light"
     },
     "output_type": "display_data"
    }
   ],
   "source": [
    "plt.plot(history.history['loss'])\n",
    "plt.plot(history.history['val_loss'])\n",
    "plt.legend(['Training', 'Validation'])\n",
    "plt.title('Training and Validation Losses')\n",
    "plt.xlabel('epoch')"
   ]
  },
  {
   "cell_type": "markdown",
   "id": "1a391126-45f1-4efd-b8ac-1eb93537f585",
   "metadata": {},
   "source": [
    "### Predictions"
   ]
  },
  {
   "cell_type": "code",
   "execution_count": 27,
   "id": "f7fce844-caf5-4f52-845e-57917f8a059b",
   "metadata": {},
   "outputs": [],
   "source": [
    "X_test = xscaler.transform(X_test)"
   ]
  },
  {
   "cell_type": "code",
   "execution_count": 28,
   "id": "2a74cdbb-4cf5-40a3-8786-d1fd6929f3ce",
   "metadata": {},
   "outputs": [],
   "source": [
    "predictions = yscaler.inverse_transform(model.predict(X_test))"
   ]
  },
  {
   "cell_type": "code",
   "execution_count": 29,
   "id": "896ff0b9-ccc0-4a9f-954a-ba6edc507dab",
   "metadata": {},
   "outputs": [
    {
     "data": {
      "text/html": [
       "<div>\n",
       "<style scoped>\n",
       "    .dataframe tbody tr th:only-of-type {\n",
       "        vertical-align: middle;\n",
       "    }\n",
       "\n",
       "    .dataframe tbody tr th {\n",
       "        vertical-align: top;\n",
       "    }\n",
       "\n",
       "    .dataframe thead th {\n",
       "        text-align: right;\n",
       "    }\n",
       "</style>\n",
       "<table border=\"1\" class=\"dataframe\">\n",
       "  <thead>\n",
       "    <tr style=\"text-align: right;\">\n",
       "      <th></th>\n",
       "      <th>charges_prediction</th>\n",
       "      <th>charges</th>\n",
       "    </tr>\n",
       "  </thead>\n",
       "  <tbody>\n",
       "    <tr>\n",
       "      <th>0</th>\n",
       "      <td>12986.592773</td>\n",
       "      <td>9800.88820</td>\n",
       "    </tr>\n",
       "    <tr>\n",
       "      <th>1</th>\n",
       "      <td>7934.366211</td>\n",
       "      <td>4667.60765</td>\n",
       "    </tr>\n",
       "    <tr>\n",
       "      <th>2</th>\n",
       "      <td>29642.357422</td>\n",
       "      <td>34838.87300</td>\n",
       "    </tr>\n",
       "    <tr>\n",
       "      <th>3</th>\n",
       "      <td>7694.464844</td>\n",
       "      <td>5125.21570</td>\n",
       "    </tr>\n",
       "    <tr>\n",
       "      <th>4</th>\n",
       "      <td>13362.682617</td>\n",
       "      <td>12142.57860</td>\n",
       "    </tr>\n",
       "  </tbody>\n",
       "</table>\n",
       "</div>"
      ],
      "text/plain": [
       "   charges_prediction      charges\n",
       "0        12986.592773   9800.88820\n",
       "1         7934.366211   4667.60765\n",
       "2        29642.357422  34838.87300\n",
       "3         7694.464844   5125.21570\n",
       "4        13362.682617  12142.57860"
      ]
     },
     "execution_count": 29,
     "metadata": {},
     "output_type": "execute_result"
    }
   ],
   "source": [
    "results = pd.DataFrame(np.hstack((predictions, y_test)), columns = ['charges_prediction', 'charges'])\n",
    "results.head()"
   ]
  },
  {
   "cell_type": "code",
   "execution_count": 30,
   "id": "9fab5c5e-3f02-410e-b5c6-57480e99cd67",
   "metadata": {},
   "outputs": [
    {
     "name": "stdout",
     "output_type": "stream",
     "text": [
      "El modelo genera un R2_Score=85.09% y un MSE=21305968.76 para los datos de prueba\n"
     ]
    }
   ],
   "source": [
    "r2_test = metrics.r2_score(results['charges'], results['charges_prediction'])\n",
    "mse_test = metrics.mean_squared_error(results['charges'], results['charges_prediction'])\n",
    "print('El modelo genera un R2_Score={:.2%} y un MSE={:.2f} para los datos de prueba'.format(r2_test, mse_test))"
   ]
  },
  {
   "cell_type": "markdown",
   "id": "e63b5b0f-639f-4994-83ad-62abcf7b2d57",
   "metadata": {},
   "source": [
    "### Save model results"
   ]
  },
  {
   "cell_type": "code",
   "execution_count": 33,
   "id": "f1bd6612-1b43-4e65-ac26-1784bd43509f",
   "metadata": {},
   "outputs": [
    {
     "data": {
      "text/html": [
       "<div>\n",
       "<style scoped>\n",
       "    .dataframe tbody tr th:only-of-type {\n",
       "        vertical-align: middle;\n",
       "    }\n",
       "\n",
       "    .dataframe tbody tr th {\n",
       "        vertical-align: top;\n",
       "    }\n",
       "\n",
       "    .dataframe thead th {\n",
       "        text-align: right;\n",
       "    }\n",
       "</style>\n",
       "<table border=\"1\" class=\"dataframe\">\n",
       "  <thead>\n",
       "    <tr style=\"text-align: right;\">\n",
       "      <th></th>\n",
       "      <th>Model_ID</th>\n",
       "      <th>Model_path</th>\n",
       "      <th>Weights_path</th>\n",
       "      <th>MSE</th>\n",
       "      <th>R2_Score</th>\n",
       "    </tr>\n",
       "  </thead>\n",
       "  <tbody>\n",
       "    <tr>\n",
       "      <th>0</th>\n",
       "      <td>2</td>\n",
       "      <td>./models/mlp_model2/mlp_model.h5</td>\n",
       "      <td>./models/mlp_model2/mlp_cp.ckpt</td>\n",
       "      <td>2.130597e+07</td>\n",
       "      <td>0.850861</td>\n",
       "    </tr>\n",
       "  </tbody>\n",
       "</table>\n",
       "</div>"
      ],
      "text/plain": [
       "   Model_ID                        Model_path  \\\n",
       "0         2  ./models/mlp_model2/mlp_model.h5   \n",
       "\n",
       "                      Weights_path           MSE  R2_Score  \n",
       "0  ./models/mlp_model2/mlp_cp.ckpt  2.130597e+07  0.850861  "
      ]
     },
     "execution_count": 33,
     "metadata": {},
     "output_type": "execute_result"
    }
   ],
   "source": [
    "results = pd.DataFrame({'Model_ID': model_id, 'Model_path': model_path, 'Weights_path': checkpoint_path, 'MSE': mse_test, 'R2_Score': r2_test}, index = [0])\n",
    "results"
   ]
  },
  {
   "cell_type": "code",
   "execution_count": 34,
   "id": "f9c628f1-ca16-4a08-9e4a-bac20ac7579a",
   "metadata": {},
   "outputs": [],
   "source": [
    "results.to_csv('./models/model_results.csv', mode = 'a', header = False, index = False)"
   ]
  },
  {
   "cell_type": "markdown",
   "id": "bef5931c-594e-47d8-91ce-19b4ef5d8ee9",
   "metadata": {},
   "source": [
    "### Get Best Model"
   ]
  },
  {
   "cell_type": "code",
   "execution_count": 35,
   "id": "695c2772-5186-42e7-a618-1e064f7f869d",
   "metadata": {},
   "outputs": [
    {
     "data": {
      "text/html": [
       "<div>\n",
       "<style scoped>\n",
       "    .dataframe tbody tr th:only-of-type {\n",
       "        vertical-align: middle;\n",
       "    }\n",
       "\n",
       "    .dataframe tbody tr th {\n",
       "        vertical-align: top;\n",
       "    }\n",
       "\n",
       "    .dataframe thead th {\n",
       "        text-align: right;\n",
       "    }\n",
       "</style>\n",
       "<table border=\"1\" class=\"dataframe\">\n",
       "  <thead>\n",
       "    <tr style=\"text-align: right;\">\n",
       "      <th></th>\n",
       "      <th>Model_ID</th>\n",
       "      <th>Model_path</th>\n",
       "      <th>Weights_path</th>\n",
       "      <th>MSE</th>\n",
       "      <th>R2_Score</th>\n",
       "    </tr>\n",
       "  </thead>\n",
       "  <tbody>\n",
       "    <tr>\n",
       "      <th>0</th>\n",
       "      <td>2</td>\n",
       "      <td>./models/mlp_model2/mlp_model.h5</td>\n",
       "      <td>./models/mlp_model2/mlp_cp.ckpt</td>\n",
       "      <td>2.130597e+07</td>\n",
       "      <td>0.850861</td>\n",
       "    </tr>\n",
       "    <tr>\n",
       "      <th>1</th>\n",
       "      <td>1</td>\n",
       "      <td>./models/mlp_model1/mlp_model.h5</td>\n",
       "      <td>./models/mlp_model1/mlp_cp.ckpt</td>\n",
       "      <td>2.279956e+07</td>\n",
       "      <td>0.840406</td>\n",
       "    </tr>\n",
       "  </tbody>\n",
       "</table>\n",
       "</div>"
      ],
      "text/plain": [
       "   Model_ID                        Model_path  \\\n",
       "0         2  ./models/mlp_model2/mlp_model.h5   \n",
       "1         1  ./models/mlp_model1/mlp_model.h5   \n",
       "\n",
       "                      Weights_path           MSE  R2_Score  \n",
       "0  ./models/mlp_model2/mlp_cp.ckpt  2.130597e+07  0.850861  \n",
       "1  ./models/mlp_model1/mlp_cp.ckpt  2.279956e+07  0.840406  "
      ]
     },
     "execution_count": 35,
     "metadata": {},
     "output_type": "execute_result"
    }
   ],
   "source": [
    "models_df = pd.read_csv('./models/model_results.csv')\n",
    "models_df.sort_values(by = 'R2_Score', ascending = False, ignore_index = True, inplace = True)\n",
    "models_df.head()"
   ]
  },
  {
   "cell_type": "code",
   "execution_count": 36,
   "id": "0f542026-b4bb-4263-b1c3-f84e0a0261db",
   "metadata": {},
   "outputs": [
    {
     "data": {
      "text/plain": [
       "<tensorflow.python.training.tracking.util.CheckpointLoadStatus at 0x1d87e8f1e80>"
      ]
     },
     "execution_count": 36,
     "metadata": {},
     "output_type": "execute_result"
    }
   ],
   "source": [
    "model = load_model(models_df.loc[0, 'Model_path'])\n",
    "model.load_weights(models_df.loc[0, 'Weights_path'])\n",
    "#model.compile(optimizer='adam', loss='mean_squared_error', metrics=['mse'])"
   ]
  },
  {
   "cell_type": "code",
   "execution_count": 37,
   "id": "09d4180d-b008-4064-bc8f-2f5149d713ab",
   "metadata": {},
   "outputs": [],
   "source": [
    "results = model.predict(X_test)\n",
    "predictions = yscaler.inverse_transform(model.predict(X_test))"
   ]
  },
  {
   "cell_type": "code",
   "execution_count": 38,
   "id": "c310db6f-84f5-40a2-a9bd-969251a93048",
   "metadata": {},
   "outputs": [
    {
     "name": "stdout",
     "output_type": "stream",
     "text": [
      "El modelo genera un R2_Score=85.09% y un MSE=21305968.76 para los datos de prueba\n"
     ]
    }
   ],
   "source": [
    "results = pd.DataFrame(np.hstack((predictions, y_test)), columns = ['charges_prediction', 'charges'])\n",
    "\n",
    "r2_test = metrics.r2_score(results['charges'], results['charges_prediction'])\n",
    "mse_test = metrics.mean_squared_error(results['charges'], results['charges_prediction'])\n",
    "\n",
    "print('El modelo genera un R2_Score={:.2%} y un MSE={:.2f} para los datos de prueba'.format(r2_test, mse_test))"
   ]
  }
 ],
 "metadata": {
  "kernelspec": {
   "display_name": "Python 3",
   "language": "python",
   "name": "python3"
  },
  "language_info": {
   "codemirror_mode": {
    "name": "ipython",
    "version": 3
   },
   "file_extension": ".py",
   "mimetype": "text/x-python",
   "name": "python",
   "nbconvert_exporter": "python",
   "pygments_lexer": "ipython3",
   "version": "3.9.4"
  }
 },
 "nbformat": 4,
 "nbformat_minor": 5
}
