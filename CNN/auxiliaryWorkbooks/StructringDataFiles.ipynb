{
 "cells": [
  {
   "cell_type": "code",
   "execution_count": 1,
   "id": "475eacc9-e7fb-4061-9217-89043c40c7ad",
   "metadata": {},
   "outputs": [],
   "source": [
    "import os\n",
    "import re\n",
    "from shutil import copy2 #7.26, 28.6, 5.39"
   ]
  },
  {
   "cell_type": "markdown",
   "id": "2967b879-20ec-40f2-8906-4754ddab95ac",
   "metadata": {},
   "source": [
    "#### Functions"
   ]
  },
  {
   "cell_type": "code",
   "execution_count": 2,
   "id": "93c63020-7682-427b-9e37-cc07fb20fedf",
   "metadata": {},
   "outputs": [],
   "source": [
    "def getDataFileSplit(directory, data_files, file_split_type):\n",
    "    files_dict = dict()\n",
    "    class_dict = {1:'glass',  2:'paper', 3:'cardboard', 4:'plastic', 5:'metal', 6:'trash'}\n",
    "    \n",
    "    for file_name, split_type in zip(data_files, file_split_type):\n",
    "        file = os.path.join(directory, file_name)\n",
    "        files_dict[split_type] = []\n",
    "        \n",
    "        if os.path.isfile(file):\n",
    "            with open(file) as f:\n",
    "                lines = f.readlines()\n",
    "                for line in lines:\n",
    "                    split_line = line.partition(' ')\n",
    "                    img = split_line[0]\n",
    "                    class_id = int(re.sub(r'\\n', '', split_line[-1]))\n",
    "                    class_type = class_dict[class_id]\n",
    "                    files_dict[split_type].append((img, class_type))\n",
    "                               \n",
    "    return files_dict"
   ]
  },
  {
   "cell_type": "code",
   "execution_count": 3,
   "id": "49b7b7d8-461f-4486-a445-3c46a3743ba3",
   "metadata": {},
   "outputs": [],
   "source": [
    "def createDirectory(path):\n",
    "    if not os.path.exists(path):\n",
    "        os.makedirs(path)       \n",
    "    return"
   ]
  },
  {
   "cell_type": "code",
   "execution_count": 4,
   "id": "25862015-62de-411b-9034-508efcc3a0f3",
   "metadata": {},
   "outputs": [],
   "source": [
    "def setDirectoryTree(folders, split_types, root_path):   \n",
    "    createDirectory(root_path)\n",
    "    for main_directory in split_types:\n",
    "        folder_path = os.path.join(root_path, main_directory)\n",
    "        createDirectory(folder_path)\n",
    "        \n",
    "        for class_type in folders:\n",
    "            class_path = os.path.join(folder_path, class_type)\n",
    "            createDirectory(class_path)\n",
    "    \n",
    "    return"
   ]
  },
  {
   "cell_type": "code",
   "execution_count": 5,
   "id": "ac16820d-99cd-4d62-a521-354c8b594d05",
   "metadata": {},
   "outputs": [],
   "source": [
    "def copyFiles_to_tree(split_files, data_path, dst_path):\n",
    "    for set_name, value_list in split_files.items():\n",
    "        for img, class_type in value_list:\n",
    "            origin_folder = os.path.join(data_path, class_type, img)\n",
    "            dst_folder = os.path.join(dst_path, set_name, class_type)\n",
    "            if not os.path.exists(os.path.join(dst_folder, img)):\n",
    "                copy2(origin_folder, dst_folder)   \n",
    "                \n",
    "    print('Files moved succesfully!')\n",
    "    return"
   ]
  },
  {
   "cell_type": "markdown",
   "id": "557f2011-ffd2-4faf-abfa-70d10b726f67",
   "metadata": {},
   "source": [
    "#### Moving Data"
   ]
  },
  {
   "cell_type": "code",
   "execution_count": 6,
   "id": "a4180973-4947-41f8-9ef5-ea3934700dc3",
   "metadata": {},
   "outputs": [],
   "source": [
    "origin_path = '.\\dataset'\n",
    "dst_path = '.\\input'\n",
    "data_path = os.path.join(origin_path, 'Garbage classification')"
   ]
  },
  {
   "cell_type": "code",
   "execution_count": 7,
   "id": "3ae7b5a2-4fcb-4ff7-9523-832c8a2ba822",
   "metadata": {},
   "outputs": [],
   "source": [
    "data_files = ['one-indexed-files-notrash_train.txt', 'one-indexed-files-notrash_val.txt', 'one-indexed-files-notrash_test.txt']\n",
    "set_names = ['train_set', 'validation_set', 'test_set']\n",
    "class_types = os.listdir(data_path)"
   ]
  },
  {
   "cell_type": "code",
   "execution_count": 8,
   "id": "56cd3bec-5cfa-4207-804f-df702ea0ab95",
   "metadata": {},
   "outputs": [],
   "source": [
    "setDirectoryTree(class_types, set_names, dst_path)"
   ]
  },
  {
   "cell_type": "code",
   "execution_count": 9,
   "id": "a2fd3d9e-394a-488e-8344-bbef6cbff895",
   "metadata": {},
   "outputs": [],
   "source": [
    "split_files = getDataFileSplit(origin_path, data_files, set_names)"
   ]
  },
  {
   "cell_type": "code",
   "execution_count": 10,
   "id": "38be7328-daf3-4070-addd-4ff2982a0075",
   "metadata": {},
   "outputs": [
    {
     "name": "stdout",
     "output_type": "stream",
     "text": [
      "Files moved succesfully!\n"
     ]
    }
   ],
   "source": [
    "copyFiles_to_tree(split_files, data_path, dst_path)"
   ]
  }
 ],
 "metadata": {
  "kernelspec": {
   "display_name": "Python 3",
   "language": "python",
   "name": "python3"
  },
  "language_info": {
   "codemirror_mode": {
    "name": "ipython",
    "version": 3
   },
   "file_extension": ".py",
   "mimetype": "text/x-python",
   "name": "python",
   "nbconvert_exporter": "python",
   "pygments_lexer": "ipython3",
   "version": "3.9.4"
  }
 },
 "nbformat": 4,
 "nbformat_minor": 5
}
