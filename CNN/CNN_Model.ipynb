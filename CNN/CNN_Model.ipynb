{
 "cells": [
  {
   "cell_type": "markdown",
   "id": "f31c954a-c341-4f42-8223-640c876f7648",
   "metadata": {},
   "source": [
    "#### Import Libraries"
   ]
  },
  {
   "cell_type": "code",
   "execution_count": 1,
   "id": "d27e20b6-8bf4-4bb0-9256-c17bc4216392",
   "metadata": {},
   "outputs": [],
   "source": [
    "import os\n",
    "import pandas as pd\n",
    "import numpy as np\n",
    "from sklearn import metrics\n",
    "import matplotlib.pyplot as plt\n",
    "from StructureDataModule import structure_data"
   ]
  },
  {
   "cell_type": "code",
   "execution_count": 2,
   "id": "238d0489-a464-409c-96b0-2bff1fc870c4",
   "metadata": {},
   "outputs": [],
   "source": [
    "import tensorflow as tf\n",
    "from keras.models import Sequential\n",
    "from keras.layers import Dense, Conv2D, MaxPool2D\n",
    "from keras.initializers import GlorotNormal, GlorotUniform\n",
    "from keras.preprocessing.image import ImageDataGenerator, load_img, array_to_img, img_to_array"
   ]
  },
  {
   "cell_type": "markdown",
   "id": "14b48389-3ddc-4ae4-9038-e02d8398f0f4",
   "metadata": {},
   "source": [
    "#### Structuring data files"
   ]
  },
  {
   "cell_type": "code",
   "execution_count": 4,
   "id": "3e64c669-7eb8-49e2-93d2-53799dc94c96",
   "metadata": {},
   "outputs": [
    {
     "name": "stdout",
     "output_type": "stream",
     "text": [
      "Files moved succesfully!\n"
     ]
    }
   ],
   "source": [
    "structure_data()"
   ]
  },
  {
   "cell_type": "markdown",
   "id": "d7acedac-9b12-409c-8873-007713cc1bfb",
   "metadata": {},
   "source": [
    "#### Image Preprocessing"
   ]
  },
  {
   "cell_type": "code",
   "execution_count": 10,
   "id": "b6304032-2369-4680-a6ad-ba241603f6f9",
   "metadata": {},
   "outputs": [],
   "source": [
    "trainset_path = './input/train_set'\n",
    "validationset_path = './input/validation_set'\n",
    "testset_path = './input/test_set'"
   ]
  },
  {
   "cell_type": "code",
   "execution_count": 11,
   "id": "6fcb6d6f-b61f-48d3-9d3d-060a024dfd31",
   "metadata": {},
   "outputs": [
    {
     "name": "stdout",
     "output_type": "stream",
     "text": [
      "Found 1768 images belonging to 6 classes.\n"
     ]
    }
   ],
   "source": [
    "train_datagen = ImageDataGenerator(\n",
    "    rescale = 1/255.,\n",
    "    shear_range = 0.2,\n",
    "    zoom_range = 0.2,\n",
    "    horizontal_flip = True\n",
    ")\n",
    "\n",
    "train_generator = train_datagen.flow_from_directory(\n",
    "    trainset_path,\n",
    "    target_size = (64, 64),\n",
    "    batch_size = 32,\n",
    "    class_mode = 'categorical'\n",
    ")"
   ]
  }
 ],
 "metadata": {
  "kernelspec": {
   "display_name": "Python 3",
   "language": "python",
   "name": "python3"
  },
  "language_info": {
   "codemirror_mode": {
    "name": "ipython",
    "version": 3
   },
   "file_extension": ".py",
   "mimetype": "text/x-python",
   "name": "python",
   "nbconvert_exporter": "python",
   "pygments_lexer": "ipython3",
   "version": "3.9.4"
  }
 },
 "nbformat": 4,
 "nbformat_minor": 5
}
