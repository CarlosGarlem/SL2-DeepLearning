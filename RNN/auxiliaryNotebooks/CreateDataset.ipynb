{
 "cells": [
  {
   "cell_type": "code",
   "execution_count": 1,
   "id": "7bf46206-c435-4d64-9df6-a514852a0930",
   "metadata": {},
   "outputs": [],
   "source": [
    "import os\n",
    "import csv\n",
    "import emoji\n",
    "import pandas as pd"
   ]
  },
  {
   "cell_type": "code",
   "execution_count": 2,
   "id": "c227308f-7552-42b2-81f9-40dfa169a7ab",
   "metadata": {},
   "outputs": [],
   "source": [
    "path = './input/tweets'\n",
    "output_path = './input/data'\n",
    "dataset_path = os.path.join(output_path, 'tweets_dataset.csv')"
   ]
  },
  {
   "cell_type": "code",
   "execution_count": 3,
   "id": "91689a9a-e181-4244-9eff-e22dd4e26b8a",
   "metadata": {},
   "outputs": [],
   "source": [
    "def createDirectory(path):\n",
    "    if not os.path.exists(path):\n",
    "        os.makedirs(path)       \n",
    "    return"
   ]
  },
  {
   "cell_type": "code",
   "execution_count": 4,
   "id": "ced9ce90-4c32-44f6-b480-64a4a270cb98",
   "metadata": {},
   "outputs": [],
   "source": [
    "def createDataset(path, output_path):\n",
    "    \n",
    "    createDirectory(output_path)\n",
    "    files = os.listdir(path)\n",
    "    filename = os.path.join(path, files[0])\n",
    "    dataset_path = os.path.join(output_path, 'tweets_dataset.csv')\n",
    "    \n",
    "    data = pd.read_csv(filename, encoding = 'utf-8', sep = '\\t', nrows = 3)\n",
    "    header = list(data.columns) \n",
    "    header.append('file_source')\n",
    "\n",
    "    with open(dataset_path, 'w', encoding = 'UTF8') as f:\n",
    "        writer = csv.writer(f)\n",
    "        writer.writerow(header)\n",
    "    \n",
    "    return"
   ]
  },
  {
   "cell_type": "code",
   "execution_count": 5,
   "id": "b9729123-dfc9-40c2-b6ff-aca6385199e7",
   "metadata": {},
   "outputs": [],
   "source": [
    "createDataset(path, output_path)"
   ]
  },
  {
   "cell_type": "code",
   "execution_count": 6,
   "id": "7f9e4ebd-d224-4e79-a745-fb467c574b64",
   "metadata": {},
   "outputs": [],
   "source": [
    "def appendData(data):\n",
    "    data.to_csv(dataset_path, mode = 'a', encoding = 'utf-8', header = False, index = False)\n",
    "    print('File data saved succesfully')\n",
    "    return "
   ]
  },
  {
   "cell_type": "code",
   "execution_count": 7,
   "id": "02cd851d-4ff6-475b-bcec-2952fdb8b09d",
   "metadata": {},
   "outputs": [],
   "source": [
    "def populateDataset(directory):\n",
    "    for filename in os.listdir(directory):\n",
    "        file = os.path.join(directory, filename)\n",
    "        if 'BR' not in filename and os.path.isfile(file):\n",
    "            data = pd.read_csv(file, encoding = 'utf-8', sep = '\\t') \n",
    "            data['file_source'] = filename\n",
    "            appendData(data)\n",
    "            \n",
    "    return"
   ]
  },
  {
   "cell_type": "code",
   "execution_count": 9,
   "id": "34e0009f-4d22-4247-91b6-7e21c92bfdc6",
   "metadata": {},
   "outputs": [
    {
     "name": "stdout",
     "output_type": "stream",
     "text": [
      "File data saved succesfully\n",
      "File data saved succesfully\n",
      "File data saved succesfully\n",
      "File data saved succesfully\n",
      "File data saved succesfully\n",
      "File data saved succesfully\n",
      "File data saved succesfully\n",
      "File data saved succesfully\n",
      "File data saved succesfully\n"
     ]
    }
   ],
   "source": [
    "populateDataset(path)"
   ]
  },
  {
   "cell_type": "markdown",
   "id": "4cc6152b-c01b-4b06-b618-b7db0d406ac0",
   "metadata": {},
   "source": [
    "### Check emojis"
   ]
  },
  {
   "cell_type": "code",
   "execution_count": 42,
   "id": "4b895bc9-9468-4d3b-a930-bdbc37821c49",
   "metadata": {},
   "outputs": [],
   "source": [
    "from collections import Counter\n",
    "import numpy as np\n",
    "import re"
   ]
  },
  {
   "cell_type": "code",
   "execution_count": 11,
   "id": "312490e2-746a-4c63-bfc6-4661a5b8526b",
   "metadata": {},
   "outputs": [
    {
     "data": {
      "text/html": [
       "<div>\n",
       "<style scoped>\n",
       "    .dataframe tbody tr th:only-of-type {\n",
       "        vertical-align: middle;\n",
       "    }\n",
       "\n",
       "    .dataframe tbody tr th {\n",
       "        vertical-align: top;\n",
       "    }\n",
       "\n",
       "    .dataframe thead th {\n",
       "        text-align: right;\n",
       "    }\n",
       "</style>\n",
       "<table border=\"1\" class=\"dataframe\">\n",
       "  <thead>\n",
       "    <tr style=\"text-align: right;\">\n",
       "      <th></th>\n",
       "      <th>tweet.created_at</th>\n",
       "      <th>tweet_text</th>\n",
       "      <th>tweet.retweet_count</th>\n",
       "      <th>tweet.source</th>\n",
       "      <th>tweet.user.created_at</th>\n",
       "      <th>tweet.user.followers_count</th>\n",
       "      <th>tweet.user.friends_count</th>\n",
       "      <th>tweet.user.location</th>\n",
       "      <th>tweet.user.name</th>\n",
       "      <th>file_source</th>\n",
       "    </tr>\n",
       "  </thead>\n",
       "  <tbody>\n",
       "    <tr>\n",
       "      <th>0</th>\n",
       "      <td>2020-03-14 23:59:55</td>\n",
       "      <td>#CORONAVIRUS La Universidad de Buenos Aires #U...</td>\n",
       "      <td>0</td>\n",
       "      <td>Instagram</td>\n",
       "      <td>2013-09-23 02:17:08</td>\n",
       "      <td>202</td>\n",
       "      <td>804</td>\n",
       "      <td>Don Torcuato.</td>\n",
       "      <td>En el medio</td>\n",
       "      <td>all_AR.csv</td>\n",
       "    </tr>\n",
       "    <tr>\n",
       "      <th>1</th>\n",
       "      <td>2020-03-14 23:59:53</td>\n",
       "      <td>RT @UBARectorado: Suspensión temporal de la cu...</td>\n",
       "      <td>3630</td>\n",
       "      <td>Twitter for Android</td>\n",
       "      <td>2012-08-08 18:14:00</td>\n",
       "      <td>311</td>\n",
       "      <td>179</td>\n",
       "      <td>Ciudad Autónoma de Buenos Aire</td>\n",
       "      <td>Ro🌿💚</td>\n",
       "      <td>all_AR.csv</td>\n",
       "    </tr>\n",
       "    <tr>\n",
       "      <th>2</th>\n",
       "      <td>2020-03-14 23:59:52</td>\n",
       "      <td>Aplausos en balcones y terrazas de toda España...</td>\n",
       "      <td>0</td>\n",
       "      <td>Instagram</td>\n",
       "      <td>2015-10-17 01:26:37</td>\n",
       "      <td>3442</td>\n",
       "      <td>1927</td>\n",
       "      <td>Buenos Aires, Argentina</td>\n",
       "      <td>F.C Desde Lejos Arg</td>\n",
       "      <td>all_AR.csv</td>\n",
       "    </tr>\n",
       "    <tr>\n",
       "      <th>3</th>\n",
       "      <td>2020-03-14 23:59:51</td>\n",
       "      <td>Emanuel Más sos mas malo que el #coronavirus .</td>\n",
       "      <td>0</td>\n",
       "      <td>Twitter for iPhone</td>\n",
       "      <td>2011-06-03 01:04:21</td>\n",
       "      <td>624</td>\n",
       "      <td>514</td>\n",
       "      <td>Capital Federal</td>\n",
       "      <td>RBQ</td>\n",
       "      <td>all_AR.csv</td>\n",
       "    </tr>\n",
       "    <tr>\n",
       "      <th>4</th>\n",
       "      <td>2020-03-14 23:59:51</td>\n",
       "      <td>RT @RubinsteinOk: En un escenario tan cambiant...</td>\n",
       "      <td>1902</td>\n",
       "      <td>Twitter Web App</td>\n",
       "      <td>2015-09-21 21:38:47</td>\n",
       "      <td>248</td>\n",
       "      <td>381</td>\n",
       "      <td>NaN</td>\n",
       "      <td>Jose Maria</td>\n",
       "      <td>all_AR.csv</td>\n",
       "    </tr>\n",
       "  </tbody>\n",
       "</table>\n",
       "</div>"
      ],
      "text/plain": [
       "      tweet.created_at                                         tweet_text  \\\n",
       "0  2020-03-14 23:59:55  #CORONAVIRUS La Universidad de Buenos Aires #U...   \n",
       "1  2020-03-14 23:59:53  RT @UBARectorado: Suspensión temporal de la cu...   \n",
       "2  2020-03-14 23:59:52  Aplausos en balcones y terrazas de toda España...   \n",
       "3  2020-03-14 23:59:51     Emanuel Más sos mas malo que el #coronavirus .   \n",
       "4  2020-03-14 23:59:51  RT @RubinsteinOk: En un escenario tan cambiant...   \n",
       "\n",
       "  tweet.retweet_count         tweet.source tweet.user.created_at  \\\n",
       "0                   0            Instagram   2013-09-23 02:17:08   \n",
       "1                3630  Twitter for Android   2012-08-08 18:14:00   \n",
       "2                   0            Instagram   2015-10-17 01:26:37   \n",
       "3                   0   Twitter for iPhone   2011-06-03 01:04:21   \n",
       "4                1902      Twitter Web App   2015-09-21 21:38:47   \n",
       "\n",
       "  tweet.user.followers_count tweet.user.friends_count  \\\n",
       "0                        202                      804   \n",
       "1                        311                      179   \n",
       "2                       3442                     1927   \n",
       "3                        624                      514   \n",
       "4                        248                      381   \n",
       "\n",
       "              tweet.user.location      tweet.user.name file_source  \n",
       "0                   Don Torcuato.          En el medio  all_AR.csv  \n",
       "1  Ciudad Autónoma de Buenos Aire                 Ro🌿💚  all_AR.csv  \n",
       "2         Buenos Aires, Argentina  F.C Desde Lejos Arg  all_AR.csv  \n",
       "3                 Capital Federal                  RBQ  all_AR.csv  \n",
       "4                             NaN           Jose Maria  all_AR.csv  "
      ]
     },
     "execution_count": 11,
     "metadata": {},
     "output_type": "execute_result"
    }
   ],
   "source": [
    "df = pd.read_csv(dataset_path, encoding = 'utf-8')\n",
    "df.head()"
   ]
  },
  {
   "cell_type": "code",
   "execution_count": 12,
   "id": "324fa857-bfcb-4e44-8034-654904b60784",
   "metadata": {},
   "outputs": [
    {
     "data": {
      "text/plain": [
       "(3236245, 10)"
      ]
     },
     "execution_count": 12,
     "metadata": {},
     "output_type": "execute_result"
    }
   ],
   "source": [
    "df.shape"
   ]
  },
  {
   "cell_type": "code",
   "execution_count": 13,
   "id": "53a2bc57-1a3d-424e-a475-39a5e1d093ee",
   "metadata": {},
   "outputs": [],
   "source": [
    "df.dropna(subset=['tweet_text', 'tweet.user.name'], axis = 0, inplace = True)\n",
    "all_texts = ' '.join(df['tweet_text'].values)  \n",
    "all_users = ' '.join(df['tweet.user.name'].values)"
   ]
  },
  {
   "cell_type": "code",
   "execution_count": 31,
   "id": "537bfca0-eb18-480a-bc2d-76413781d996",
   "metadata": {},
   "outputs": [
    {
     "name": "stdout",
     "output_type": "stream",
     "text": [
      "Wall time: 39.9 s\n"
     ]
    }
   ],
   "source": [
    "%%time\n",
    "emoji_list = [c for c in all_texts if c in emoji.UNICODE_EMOJI['es']]"
   ]
  },
  {
   "cell_type": "code",
   "execution_count": 63,
   "id": "cd7a035c-c659-45de-811b-5564251340e6",
   "metadata": {},
   "outputs": [
    {
     "data": {
      "text/plain": [
       "['😀', '😃', '😄']"
      ]
     },
     "execution_count": 63,
     "metadata": {},
     "output_type": "execute_result"
    }
   ],
   "source": [
    "list(emoji.UNICODE_EMOJI['es'].keys())[0:3]"
   ]
  },
  {
   "cell_type": "code",
   "execution_count": null,
   "id": "38d70489-22f0-4e10-8ceb-1d901abf7d1e",
   "metadata": {},
   "outputs": [],
   "source": [
    "count_emojis = Counter(emoji_list)\n",
    "order_count_emojis = {k: v for k, v in sorted(count_emojis.items(), key=lambda item: -item[1])}"
   ]
  },
  {
   "cell_type": "code",
   "execution_count": null,
   "id": "7e43af15-4a44-4854-b45a-b0bc2af66b5b",
   "metadata": {},
   "outputs": [],
   "source": [
    "order_count_emojis"
   ]
  },
  {
   "cell_type": "code",
   "execution_count": null,
   "id": "42a5ba86-d675-4feb-87b7-027ff32dedf3",
   "metadata": {},
   "outputs": [],
   "source": [
    "emoji_list = re.findall(r'[^\\w\\s,]', all_texts)\n",
    "set(emoji_list)"
   ]
  },
  {
   "cell_type": "code",
   "execution_count": null,
   "id": "d2c7c9f6-c99e-4660-8863-26c974dd15a7",
   "metadata": {},
   "outputs": [],
   "source": [
    "emoji_list = re.findall(u\"[\\\\U0001F600-\\\\U0001F64F]\", all_texts)\n",
    "set(emoji_list)"
   ]
  },
  {
   "cell_type": "code",
   "execution_count": null,
   "id": "2da9e66a-c5f9-441b-a2d9-a318aa594bda",
   "metadata": {},
   "outputs": [],
   "source": [
    "set([c for c in all_users if c in emoji.UNICODE_EMOJI['es']])"
   ]
  },
  {
   "cell_type": "markdown",
   "id": "d8bba878-50fe-4aa4-b5b1-94b1ce5e2100",
   "metadata": {},
   "source": [
    "### Vectorize emojis"
   ]
  },
  {
   "cell_type": "code",
   "execution_count": 51,
   "id": "26d2df79-0748-484b-9912-f1e254bf773d",
   "metadata": {},
   "outputs": [
    {
     "data": {
      "text/plain": [
       "(1000, 10)"
      ]
     },
     "execution_count": 51,
     "metadata": {},
     "output_type": "execute_result"
    }
   ],
   "source": [
    "subdata  = df.iloc[0:1000, :].copy()\n",
    "subdata.shape"
   ]
  },
  {
   "cell_type": "code",
   "execution_count": 52,
   "id": "b9557376-04dc-4ff8-8711-48e76dc44871",
   "metadata": {},
   "outputs": [],
   "source": [
    "def extract_emojis(text):\n",
    "    emoji_list = [c for c in text if c in emoji.UNICODE_EMOJI['es']]\n",
    "    first_emoji = emoji_list[0] if len(emoji_list) > 0 else ''\n",
    "    emotion, emoji_icon = 'happy', first_emoji\n",
    "    return len(emoji_list), emotion, emoji_icon"
   ]
  },
  {
   "cell_type": "code",
   "execution_count": 53,
   "id": "8bcb427d-806c-4ee0-83ee-2b319816a336",
   "metadata": {},
   "outputs": [],
   "source": [
    "vfunc = np.vectorize(extract_emojis)"
   ]
  },
  {
   "cell_type": "code",
   "execution_count": 55,
   "id": "8f2ce3c8-dec3-401a-9ee3-6083eab1bf57",
   "metadata": {},
   "outputs": [],
   "source": [
    "count, emotions, icons = vfunc(subdata['tweet_text'])"
   ]
  },
  {
   "cell_type": "code",
   "execution_count": 62,
   "id": "b7381bf6-5395-4bf2-b2d1-13dea9437772",
   "metadata": {},
   "outputs": [
    {
     "data": {
      "text/html": [
       "<div>\n",
       "<style scoped>\n",
       "    .dataframe tbody tr th:only-of-type {\n",
       "        vertical-align: middle;\n",
       "    }\n",
       "\n",
       "    .dataframe tbody tr th {\n",
       "        vertical-align: top;\n",
       "    }\n",
       "\n",
       "    .dataframe thead th {\n",
       "        text-align: right;\n",
       "    }\n",
       "</style>\n",
       "<table border=\"1\" class=\"dataframe\">\n",
       "  <thead>\n",
       "    <tr style=\"text-align: right;\">\n",
       "      <th></th>\n",
       "      <th>tweet.created_at</th>\n",
       "      <th>tweet_text</th>\n",
       "      <th>tweet.retweet_count</th>\n",
       "      <th>tweet.source</th>\n",
       "      <th>tweet.user.created_at</th>\n",
       "      <th>tweet.user.followers_count</th>\n",
       "      <th>tweet.user.friends_count</th>\n",
       "      <th>tweet.user.location</th>\n",
       "      <th>tweet.user.name</th>\n",
       "      <th>file_source</th>\n",
       "      <th>emoji_count</th>\n",
       "      <th>emotion</th>\n",
       "      <th>emoji_icon</th>\n",
       "      <th>count</th>\n",
       "      <th>emotions</th>\n",
       "      <th>icons</th>\n",
       "    </tr>\n",
       "  </thead>\n",
       "  <tbody>\n",
       "    <tr>\n",
       "      <th>0</th>\n",
       "      <td>2020-03-14 23:59:55</td>\n",
       "      <td>#CORONAVIRUS La Universidad de Buenos Aires #U...</td>\n",
       "      <td>0</td>\n",
       "      <td>Instagram</td>\n",
       "      <td>2013-09-23 02:17:08</td>\n",
       "      <td>202</td>\n",
       "      <td>804</td>\n",
       "      <td>Don Torcuato.</td>\n",
       "      <td>En el medio</td>\n",
       "      <td>all_AR.csv</td>\n",
       "      <td>NaN</td>\n",
       "      <td>NaN</td>\n",
       "      <td>NaN</td>\n",
       "      <td>0</td>\n",
       "      <td>happy</td>\n",
       "      <td></td>\n",
       "    </tr>\n",
       "    <tr>\n",
       "      <th>1</th>\n",
       "      <td>2020-03-14 23:59:53</td>\n",
       "      <td>RT @UBARectorado: Suspensión temporal de la cu...</td>\n",
       "      <td>3630</td>\n",
       "      <td>Twitter for Android</td>\n",
       "      <td>2012-08-08 18:14:00</td>\n",
       "      <td>311</td>\n",
       "      <td>179</td>\n",
       "      <td>Ciudad Autónoma de Buenos Aire</td>\n",
       "      <td>Ro🌿💚</td>\n",
       "      <td>all_AR.csv</td>\n",
       "      <td>NaN</td>\n",
       "      <td>NaN</td>\n",
       "      <td>NaN</td>\n",
       "      <td>0</td>\n",
       "      <td>happy</td>\n",
       "      <td></td>\n",
       "    </tr>\n",
       "    <tr>\n",
       "      <th>2</th>\n",
       "      <td>2020-03-14 23:59:52</td>\n",
       "      <td>Aplausos en balcones y terrazas de toda España...</td>\n",
       "      <td>0</td>\n",
       "      <td>Instagram</td>\n",
       "      <td>2015-10-17 01:26:37</td>\n",
       "      <td>3442</td>\n",
       "      <td>1927</td>\n",
       "      <td>Buenos Aires, Argentina</td>\n",
       "      <td>F.C Desde Lejos Arg</td>\n",
       "      <td>all_AR.csv</td>\n",
       "      <td>NaN</td>\n",
       "      <td>NaN</td>\n",
       "      <td>NaN</td>\n",
       "      <td>0</td>\n",
       "      <td>happy</td>\n",
       "      <td></td>\n",
       "    </tr>\n",
       "    <tr>\n",
       "      <th>3</th>\n",
       "      <td>2020-03-14 23:59:51</td>\n",
       "      <td>Emanuel Más sos mas malo que el #coronavirus .</td>\n",
       "      <td>0</td>\n",
       "      <td>Twitter for iPhone</td>\n",
       "      <td>2011-06-03 01:04:21</td>\n",
       "      <td>624</td>\n",
       "      <td>514</td>\n",
       "      <td>Capital Federal</td>\n",
       "      <td>RBQ</td>\n",
       "      <td>all_AR.csv</td>\n",
       "      <td>NaN</td>\n",
       "      <td>NaN</td>\n",
       "      <td>NaN</td>\n",
       "      <td>0</td>\n",
       "      <td>happy</td>\n",
       "      <td></td>\n",
       "    </tr>\n",
       "    <tr>\n",
       "      <th>4</th>\n",
       "      <td>2020-03-14 23:59:51</td>\n",
       "      <td>RT @RubinsteinOk: En un escenario tan cambiant...</td>\n",
       "      <td>1902</td>\n",
       "      <td>Twitter Web App</td>\n",
       "      <td>2015-09-21 21:38:47</td>\n",
       "      <td>248</td>\n",
       "      <td>381</td>\n",
       "      <td>NaN</td>\n",
       "      <td>Jose Maria</td>\n",
       "      <td>all_AR.csv</td>\n",
       "      <td>NaN</td>\n",
       "      <td>NaN</td>\n",
       "      <td>NaN</td>\n",
       "      <td>0</td>\n",
       "      <td>happy</td>\n",
       "      <td></td>\n",
       "    </tr>\n",
       "  </tbody>\n",
       "</table>\n",
       "</div>"
      ],
      "text/plain": [
       "      tweet.created_at                                         tweet_text  \\\n",
       "0  2020-03-14 23:59:55  #CORONAVIRUS La Universidad de Buenos Aires #U...   \n",
       "1  2020-03-14 23:59:53  RT @UBARectorado: Suspensión temporal de la cu...   \n",
       "2  2020-03-14 23:59:52  Aplausos en balcones y terrazas de toda España...   \n",
       "3  2020-03-14 23:59:51     Emanuel Más sos mas malo que el #coronavirus .   \n",
       "4  2020-03-14 23:59:51  RT @RubinsteinOk: En un escenario tan cambiant...   \n",
       "\n",
       "  tweet.retweet_count         tweet.source tweet.user.created_at  \\\n",
       "0                   0            Instagram   2013-09-23 02:17:08   \n",
       "1                3630  Twitter for Android   2012-08-08 18:14:00   \n",
       "2                   0            Instagram   2015-10-17 01:26:37   \n",
       "3                   0   Twitter for iPhone   2011-06-03 01:04:21   \n",
       "4                1902      Twitter Web App   2015-09-21 21:38:47   \n",
       "\n",
       "  tweet.user.followers_count tweet.user.friends_count  \\\n",
       "0                        202                      804   \n",
       "1                        311                      179   \n",
       "2                       3442                     1927   \n",
       "3                        624                      514   \n",
       "4                        248                      381   \n",
       "\n",
       "              tweet.user.location      tweet.user.name file_source  \\\n",
       "0                   Don Torcuato.          En el medio  all_AR.csv   \n",
       "1  Ciudad Autónoma de Buenos Aire                 Ro🌿💚  all_AR.csv   \n",
       "2         Buenos Aires, Argentina  F.C Desde Lejos Arg  all_AR.csv   \n",
       "3                 Capital Federal                  RBQ  all_AR.csv   \n",
       "4                             NaN           Jose Maria  all_AR.csv   \n",
       "\n",
       "   emoji_count  emotion  emoji_icon  count emotions icons  \n",
       "0          NaN      NaN         NaN      0    happy        \n",
       "1          NaN      NaN         NaN      0    happy        \n",
       "2          NaN      NaN         NaN      0    happy        \n",
       "3          NaN      NaN         NaN      0    happy        \n",
       "4          NaN      NaN         NaN      0    happy        "
      ]
     },
     "execution_count": 62,
     "metadata": {},
     "output_type": "execute_result"
    }
   ],
   "source": [
    "subdata['count'] = count\n",
    "subdata['emotions'] = emotions\n",
    "subdata['icons'] = icons\n",
    "subdata.head(5)"
   ]
  }
 ],
 "metadata": {
  "kernelspec": {
   "display_name": "Python 3",
   "language": "python",
   "name": "python3"
  },
  "language_info": {
   "codemirror_mode": {
    "name": "ipython",
    "version": 3
   },
   "file_extension": ".py",
   "mimetype": "text/x-python",
   "name": "python",
   "nbconvert_exporter": "python",
   "pygments_lexer": "ipython3",
   "version": "3.6.13"
  }
 },
 "nbformat": 4,
 "nbformat_minor": 5
}
