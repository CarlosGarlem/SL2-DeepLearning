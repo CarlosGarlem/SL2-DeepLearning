{
 "cells": [
  {
   "cell_type": "code",
   "execution_count": 2,
   "id": "89939500-ca94-47df-8b13-3dcace0154a2",
   "metadata": {},
   "outputs": [],
   "source": [
    "import re\n",
    "import emoji\n",
    "from nltk.corpus import stopwords\n",
    "import numpy as np\n",
    "import pandas as pd\n",
    "from random import choices"
   ]
  },
  {
   "cell_type": "markdown",
   "id": "a6acd909-7847-43c2-ba03-dcfa9ebac837",
   "metadata": {},
   "source": [
    "### Universal Consts"
   ]
  },
  {
   "cell_type": "code",
   "execution_count": 111,
   "id": "9c868362-cab3-48e5-ac36-13ce1e009146",
   "metadata": {},
   "outputs": [
    {
     "data": {
      "text/plain": [
       "'Python is 👍'"
      ]
     },
     "execution_count": 111,
     "metadata": {},
     "output_type": "execute_result"
    }
   ],
   "source": [
    "emoji.emojize('Python is :thumbs_up:', use_aliases = True)"
   ]
  },
  {
   "cell_type": "code",
   "execution_count": 112,
   "id": "312bc83d-a897-4537-b66e-515a6ec111fe",
   "metadata": {},
   "outputs": [
    {
     "data": {
      "text/plain": [
       "':cara_revolviéndose_de_la_risa:'"
      ]
     },
     "execution_count": 112,
     "metadata": {},
     "output_type": "execute_result"
    }
   ],
   "source": [
    "emoji.demojize('🤣', language = 'es')"
   ]
  },
  {
   "cell_type": "code",
   "execution_count": 56,
   "id": "79b3fe23-8560-41b5-85ff-0e9a3719b7b7",
   "metadata": {},
   "outputs": [],
   "source": [
    "mappings = {'feliz': ['😀','😃','😄','😁']\n",
    "           ,'risa': ['🤣','😂']\n",
    "           ,'amor': ['😍','😘','🥰','❤️','🖤']\n",
    "           ,'burla': ['😛','😜','🤪','😝']\n",
    "           ,'serio': ['😐','😑','😶','🙄']\n",
    "           ,'disgusto': ['😒','🙃','😔','🙁','☹️']\n",
    "           ,'sorpresa': ['😮','😯','😲']        \n",
    "           ,'miedo': ['😨','😰','😱','😖']\n",
    "           ,'tristeza': ['😥','😢','😭']\n",
    "           ,'enojo': ['😡','😠']\n",
    "           ,'desafio': ['😎','😏']\n",
    "           ,'vacuna': ['💉']\n",
    "           ,'enfermedad': ['💀','☠️','🦠']\n",
    "           ,'oov': ['']\n",
    "        }"
   ]
  },
  {
   "cell_type": "code",
   "execution_count": 92,
   "id": "83d5422e-df97-41fa-85cb-dc73bf40ec1a",
   "metadata": {},
   "outputs": [],
   "source": [
    "emoji_dictionary = {'feliz': '😃'\n",
    "                   ,'risa': '😂'\n",
    "                   ,'amor': '🥰'\n",
    "                   ,'burla': '😜'\n",
    "                   ,'serio': '😐'\n",
    "                   ,'disgusto': '😒'\n",
    "                   ,'sorpresa': '😮'\n",
    "                   ,'miedo': '😰'\n",
    "                   ,'tristeza': '😭'\n",
    "                   ,'enojo': '😠'\n",
    "                   ,'desafio': '😎'\n",
    "                   ,'vacuna': '💉'\n",
    "                   ,'enfermedad': '🦠'\n",
    "                   ,'oov': ''\n",
    "                }"
   ]
  },
  {
   "cell_type": "markdown",
   "id": "91505b74-35f8-4ac8-90f7-c36f0d072887",
   "metadata": {},
   "source": [
    "### Getting distinct emojis"
   ]
  },
  {
   "cell_type": "code",
   "execution_count": 133,
   "id": "fafd7392-3c3a-48a8-a946-c00ab6e9ebeb",
   "metadata": {},
   "outputs": [],
   "source": [
    "path = './input/emojiData/sampleData.csv'"
   ]
  },
  {
   "cell_type": "code",
   "execution_count": 134,
   "id": "1ec3fb12-a040-45c7-9cb2-1425e9dab514",
   "metadata": {},
   "outputs": [
    {
     "data": {
      "text/html": [
       "<div>\n",
       "<style scoped>\n",
       "    .dataframe tbody tr th:only-of-type {\n",
       "        vertical-align: middle;\n",
       "    }\n",
       "\n",
       "    .dataframe tbody tr th {\n",
       "        vertical-align: top;\n",
       "    }\n",
       "\n",
       "    .dataframe thead th {\n",
       "        text-align: right;\n",
       "    }\n",
       "</style>\n",
       "<table border=\"1\" class=\"dataframe\">\n",
       "  <thead>\n",
       "    <tr style=\"text-align: right;\">\n",
       "      <th></th>\n",
       "      <th>created_at</th>\n",
       "      <th>text</th>\n",
       "      <th>retweet_count</th>\n",
       "      <th>source</th>\n",
       "      <th>user_created_at</th>\n",
       "      <th>user_followers_count</th>\n",
       "      <th>user_friends_count</th>\n",
       "      <th>user_location</th>\n",
       "      <th>user_name</th>\n",
       "    </tr>\n",
       "  </thead>\n",
       "  <tbody>\n",
       "    <tr>\n",
       "      <th>0</th>\n",
       "      <td>3/13/2020</td>\n",
       "      <td>@prensa libre vez pasado cuarto hora wall stre...</td>\n",
       "      <td>1</td>\n",
       "      <td>Pota APP</td>\n",
       "      <td>4/29/2017 6:45</td>\n",
       "      <td>1446</td>\n",
       "      <td>0</td>\n",
       "      <td>Guatemala</td>\n",
       "      <td>Noticias de Guatemala</td>\n",
       "    </tr>\n",
       "    <tr>\n",
       "      <th>1</th>\n",
       "      <td>3/13/2020</td>\n",
       "      <td>@publinewsgt #nacionales medida prevencion cov...</td>\n",
       "      <td>2</td>\n",
       "      <td>Pota APP</td>\n",
       "      <td>4/29/2017 6:45</td>\n",
       "      <td>1446</td>\n",
       "      <td>0</td>\n",
       "      <td>Guatemala</td>\n",
       "      <td>Noticias de Guatemala</td>\n",
       "    </tr>\n",
       "    <tr>\n",
       "      <th>2</th>\n",
       "      <td>3/13/2020</td>\n",
       "      <td>@emisorasunidas video coronavirus turistas est...</td>\n",
       "      <td>1</td>\n",
       "      <td>Pota APP</td>\n",
       "      <td>4/29/2017 6:45</td>\n",
       "      <td>1446</td>\n",
       "      <td>0</td>\n",
       "      <td>Guatemala</td>\n",
       "      <td>Noticias de Guatemala</td>\n",
       "    </tr>\n",
       "    <tr>\n",
       "      <th>3</th>\n",
       "      <td>3/13/2020</td>\n",
       "      <td>@prensa libre @tododeportes pl premier league ...</td>\n",
       "      <td>2</td>\n",
       "      <td>Pota APP</td>\n",
       "      <td>4/29/2017 6:45</td>\n",
       "      <td>1446</td>\n",
       "      <td>0</td>\n",
       "      <td>Guatemala</td>\n",
       "      <td>Noticias de Guatemala</td>\n",
       "    </tr>\n",
       "    <tr>\n",
       "      <th>4</th>\n",
       "      <td>3/13/2020</td>\n",
       "      <td>@prensa libre @tododeportes pl coronavirus par...</td>\n",
       "      <td>2</td>\n",
       "      <td>Pota APP</td>\n",
       "      <td>4/29/2017 6:45</td>\n",
       "      <td>1446</td>\n",
       "      <td>0</td>\n",
       "      <td>Guatemala</td>\n",
       "      <td>Noticias de Guatemala</td>\n",
       "    </tr>\n",
       "  </tbody>\n",
       "</table>\n",
       "</div>"
      ],
      "text/plain": [
       "  created_at                                               text  \\\n",
       "0  3/13/2020  @prensa libre vez pasado cuarto hora wall stre...   \n",
       "1  3/13/2020  @publinewsgt #nacionales medida prevencion cov...   \n",
       "2  3/13/2020  @emisorasunidas video coronavirus turistas est...   \n",
       "3  3/13/2020  @prensa libre @tododeportes pl premier league ...   \n",
       "4  3/13/2020  @prensa libre @tododeportes pl coronavirus par...   \n",
       "\n",
       "   retweet_count    source user_created_at  user_followers_count  \\\n",
       "0              1  Pota APP  4/29/2017 6:45                  1446   \n",
       "1              2  Pota APP  4/29/2017 6:45                  1446   \n",
       "2              1  Pota APP  4/29/2017 6:45                  1446   \n",
       "3              2  Pota APP  4/29/2017 6:45                  1446   \n",
       "4              2  Pota APP  4/29/2017 6:45                  1446   \n",
       "\n",
       "   user_friends_count user_location              user_name  \n",
       "0                   0     Guatemala  Noticias de Guatemala  \n",
       "1                   0     Guatemala  Noticias de Guatemala  \n",
       "2                   0     Guatemala  Noticias de Guatemala  \n",
       "3                   0     Guatemala  Noticias de Guatemala  \n",
       "4                   0     Guatemala  Noticias de Guatemala  "
      ]
     },
     "execution_count": 134,
     "metadata": {},
     "output_type": "execute_result"
    }
   ],
   "source": [
    "data = pd.read_table(path, encoding = 'utf-8', sep = ',')\n",
    "data.head()"
   ]
  },
  {
   "cell_type": "code",
   "execution_count": 135,
   "id": "6983f410-b747-4369-8a6d-e0d5b6ff095a",
   "metadata": {},
   "outputs": [
    {
     "data": {
      "text/html": [
       "<div>\n",
       "<style scoped>\n",
       "    .dataframe tbody tr th:only-of-type {\n",
       "        vertical-align: middle;\n",
       "    }\n",
       "\n",
       "    .dataframe tbody tr th {\n",
       "        vertical-align: top;\n",
       "    }\n",
       "\n",
       "    .dataframe thead th {\n",
       "        text-align: right;\n",
       "    }\n",
       "</style>\n",
       "<table border=\"1\" class=\"dataframe\">\n",
       "  <thead>\n",
       "    <tr style=\"text-align: right;\">\n",
       "      <th></th>\n",
       "      <th>text</th>\n",
       "    </tr>\n",
       "  </thead>\n",
       "  <tbody>\n",
       "    <tr>\n",
       "      <th>0</th>\n",
       "      <td>@prensa libre vez pasado cuarto hora wall stre...</td>\n",
       "    </tr>\n",
       "    <tr>\n",
       "      <th>1</th>\n",
       "      <td>@publinewsgt #nacionales medida prevencion cov...</td>\n",
       "    </tr>\n",
       "    <tr>\n",
       "      <th>2</th>\n",
       "      <td>@emisorasunidas video coronavirus turistas est...</td>\n",
       "    </tr>\n",
       "    <tr>\n",
       "      <th>3</th>\n",
       "      <td>@prensa libre @tododeportes pl premier league ...</td>\n",
       "    </tr>\n",
       "    <tr>\n",
       "      <th>4</th>\n",
       "      <td>@prensa libre @tododeportes pl coronavirus par...</td>\n",
       "    </tr>\n",
       "  </tbody>\n",
       "</table>\n",
       "</div>"
      ],
      "text/plain": [
       "                                                text\n",
       "0  @prensa libre vez pasado cuarto hora wall stre...\n",
       "1  @publinewsgt #nacionales medida prevencion cov...\n",
       "2  @emisorasunidas video coronavirus turistas est...\n",
       "3  @prensa libre @tododeportes pl premier league ...\n",
       "4  @prensa libre @tododeportes pl coronavirus par..."
      ]
     },
     "execution_count": 135,
     "metadata": {},
     "output_type": "execute_result"
    }
   ],
   "source": [
    "data.dropna(subset=['text'], axis = 0, inplace = True)\n",
    "data = data[['text']]\n",
    "data.head()"
   ]
  },
  {
   "cell_type": "markdown",
   "id": "8b7fa3ff-d764-4aa0-b913-53672d605572",
   "metadata": {},
   "source": [
    "### Just for demo"
   ]
  },
  {
   "cell_type": "code",
   "execution_count": 136,
   "id": "45c37a7d-5966-4281-b67e-b6769dc392b2",
   "metadata": {},
   "outputs": [
    {
     "data": {
      "text/plain": [
       "['😀', '😃', '😄']"
      ]
     },
     "execution_count": 136,
     "metadata": {},
     "output_type": "execute_result"
    }
   ],
   "source": [
    "mappings_vals = list(mappings.values())\n",
    "emoji_list = [emoji_icon for sublist in mappings_vals for emoji_icon in sublist]\n",
    "emoji_list[0:3]"
   ]
  },
  {
   "cell_type": "code",
   "execution_count": 137,
   "id": "ba8973ec-336a-4b5b-a651-891e9986b3e3",
   "metadata": {},
   "outputs": [
    {
     "data": {
      "text/plain": [
       "['☠️', '😄', '😂']"
      ]
     },
     "execution_count": 137,
     "metadata": {},
     "output_type": "execute_result"
    }
   ],
   "source": [
    "example_emojis = choices(emoji_list, k = len(data))\n",
    "example_emojis[0:3]"
   ]
  },
  {
   "cell_type": "code",
   "execution_count": 138,
   "id": "53496314-3aad-440a-878b-a7017875d9f9",
   "metadata": {},
   "outputs": [
    {
     "data": {
      "text/html": [
       "<div>\n",
       "<style scoped>\n",
       "    .dataframe tbody tr th:only-of-type {\n",
       "        vertical-align: middle;\n",
       "    }\n",
       "\n",
       "    .dataframe tbody tr th {\n",
       "        vertical-align: top;\n",
       "    }\n",
       "\n",
       "    .dataframe thead th {\n",
       "        text-align: right;\n",
       "    }\n",
       "</style>\n",
       "<table border=\"1\" class=\"dataframe\">\n",
       "  <thead>\n",
       "    <tr style=\"text-align: right;\">\n",
       "      <th></th>\n",
       "      <th>text</th>\n",
       "      <th>emojis</th>\n",
       "    </tr>\n",
       "  </thead>\n",
       "  <tbody>\n",
       "    <tr>\n",
       "      <th>0</th>\n",
       "      <td>@prensa libre vez pasado cuarto hora wall stre...</td>\n",
       "      <td>☠️</td>\n",
       "    </tr>\n",
       "    <tr>\n",
       "      <th>1</th>\n",
       "      <td>@publinewsgt #nacionales medida prevencion cov...</td>\n",
       "      <td>😄</td>\n",
       "    </tr>\n",
       "    <tr>\n",
       "      <th>2</th>\n",
       "      <td>@emisorasunidas video coronavirus turistas est...</td>\n",
       "      <td>😂</td>\n",
       "    </tr>\n",
       "    <tr>\n",
       "      <th>3</th>\n",
       "      <td>@prensa libre @tododeportes pl premier league ...</td>\n",
       "      <td>😑</td>\n",
       "    </tr>\n",
       "    <tr>\n",
       "      <th>4</th>\n",
       "      <td>@prensa libre @tododeportes pl coronavirus par...</td>\n",
       "      <td>😒</td>\n",
       "    </tr>\n",
       "  </tbody>\n",
       "</table>\n",
       "</div>"
      ],
      "text/plain": [
       "                                                text emojis\n",
       "0  @prensa libre vez pasado cuarto hora wall stre...     ☠️\n",
       "1  @publinewsgt #nacionales medida prevencion cov...      😄\n",
       "2  @emisorasunidas video coronavirus turistas est...      😂\n",
       "3  @prensa libre @tododeportes pl premier league ...      😑\n",
       "4  @prensa libre @tododeportes pl coronavirus par...      😒"
      ]
     },
     "execution_count": 138,
     "metadata": {},
     "output_type": "execute_result"
    }
   ],
   "source": [
    "data['emojis'] = example_emojis\n",
    "data.head()"
   ]
  },
  {
   "cell_type": "code",
   "execution_count": 139,
   "id": "d48464dc-59f9-4ad9-b9fc-1fb13e2ae5de",
   "metadata": {},
   "outputs": [
    {
     "data": {
      "text/html": [
       "<div>\n",
       "<style scoped>\n",
       "    .dataframe tbody tr th:only-of-type {\n",
       "        vertical-align: middle;\n",
       "    }\n",
       "\n",
       "    .dataframe tbody tr th {\n",
       "        vertical-align: top;\n",
       "    }\n",
       "\n",
       "    .dataframe thead th {\n",
       "        text-align: right;\n",
       "    }\n",
       "</style>\n",
       "<table border=\"1\" class=\"dataframe\">\n",
       "  <thead>\n",
       "    <tr style=\"text-align: right;\">\n",
       "      <th></th>\n",
       "      <th>text</th>\n",
       "      <th>emojis</th>\n",
       "      <th>comments</th>\n",
       "    </tr>\n",
       "  </thead>\n",
       "  <tbody>\n",
       "    <tr>\n",
       "      <th>0</th>\n",
       "      <td>@prensa libre vez pasado cuarto hora wall stre...</td>\n",
       "      <td>☠️</td>\n",
       "      <td>@prensa libre vez pasado cuarto hora wall stre...</td>\n",
       "    </tr>\n",
       "    <tr>\n",
       "      <th>1</th>\n",
       "      <td>@publinewsgt #nacionales medida prevencion cov...</td>\n",
       "      <td>😄</td>\n",
       "      <td>@publinewsgt #nacionales medida prevencion cov...</td>\n",
       "    </tr>\n",
       "    <tr>\n",
       "      <th>2</th>\n",
       "      <td>@emisorasunidas video coronavirus turistas est...</td>\n",
       "      <td>😂</td>\n",
       "      <td>@emisorasunidas video coronavirus turistas est...</td>\n",
       "    </tr>\n",
       "    <tr>\n",
       "      <th>3</th>\n",
       "      <td>@prensa libre @tododeportes pl premier league ...</td>\n",
       "      <td>😑</td>\n",
       "      <td>@prensa libre @tododeportes pl premier league ...</td>\n",
       "    </tr>\n",
       "    <tr>\n",
       "      <th>4</th>\n",
       "      <td>@prensa libre @tododeportes pl coronavirus par...</td>\n",
       "      <td>😒</td>\n",
       "      <td>@prensa libre @tododeportes pl coronavirus par...</td>\n",
       "    </tr>\n",
       "  </tbody>\n",
       "</table>\n",
       "</div>"
      ],
      "text/plain": [
       "                                                text emojis  \\\n",
       "0  @prensa libre vez pasado cuarto hora wall stre...     ☠️   \n",
       "1  @publinewsgt #nacionales medida prevencion cov...      😄   \n",
       "2  @emisorasunidas video coronavirus turistas est...      😂   \n",
       "3  @prensa libre @tododeportes pl premier league ...      😑   \n",
       "4  @prensa libre @tododeportes pl coronavirus par...      😒   \n",
       "\n",
       "                                            comments  \n",
       "0  @prensa libre vez pasado cuarto hora wall stre...  \n",
       "1  @publinewsgt #nacionales medida prevencion cov...  \n",
       "2  @emisorasunidas video coronavirus turistas est...  \n",
       "3  @prensa libre @tododeportes pl premier league ...  \n",
       "4  @prensa libre @tododeportes pl coronavirus par...  "
      ]
     },
     "execution_count": 139,
     "metadata": {},
     "output_type": "execute_result"
    }
   ],
   "source": [
    "data['comments'] = data[['text', 'emojis']].agg(' '.join, axis = 1)\n",
    "data.head()"
   ]
  },
  {
   "cell_type": "code",
   "execution_count": 140,
   "id": "5557b111-f0af-486f-a619-1a5a723f31cf",
   "metadata": {},
   "outputs": [
    {
     "data": {
      "text/plain": [
       "'@prensa libre vez pasado cuarto hora wall street mantuvo perdidas niveles similares ☠️'"
      ]
     },
     "execution_count": 140,
     "metadata": {},
     "output_type": "execute_result"
    }
   ],
   "source": [
    "data.iloc[0,-1]"
   ]
  },
  {
   "cell_type": "markdown",
   "id": "801ad9ec-5f96-4689-8515-5c1c7d19c85b",
   "metadata": {},
   "source": [
    "### Get Emoji data"
   ]
  },
  {
   "cell_type": "code",
   "execution_count": 141,
   "id": "a040608a-3069-4299-bfec-d733cbb41c08",
   "metadata": {},
   "outputs": [],
   "source": [
    "def map_emojis(emoji_input):\n",
    "    emotion = ''\n",
    "    emoji_icon = ''\n",
    "    for key, sublist in mappings.items():\n",
    "        if emoji_input in sublist:\n",
    "            emotion = key\n",
    "            emoji_icon = emoji_dictionary[key]\n",
    "    return emotion, emoji_icon"
   ]
  },
  {
   "cell_type": "code",
   "execution_count": 142,
   "id": "feb617ca-e9b1-445e-bf98-1e5c28520ae5",
   "metadata": {},
   "outputs": [],
   "source": [
    "def extract_emojis(text):\n",
    "    emoji_list = [c for c in text if c in emoji.UNICODE_EMOJI['es']]\n",
    "    first_emoji = emoji_list[0] if len(emoji_list) > 0 else ''\n",
    "    emotion, emoji_icon = map_emojis(first_emoji)\n",
    "    return len(emoji_list), emotion, emoji_icon"
   ]
  },
  {
   "cell_type": "code",
   "execution_count": 143,
   "id": "393aa2a3-f184-41dd-be07-9118ff653367",
   "metadata": {},
   "outputs": [],
   "source": [
    "sample_text = '@Prensa liBre vez 10 de 🤣 pasado es en la cuarto #hora wall street mantuvo perdidas niveles O/ similares. 🤪'\n",
    "#sample_text = '@Prensa liBre vez 10 de pasado es en la cuarto #hora wall street mantuvo perdidas niveles O/ similares'"
   ]
  },
  {
   "cell_type": "code",
   "execution_count": 144,
   "id": "6eea8e5e-0a94-42e7-a621-4417816d7ab3",
   "metadata": {},
   "outputs": [
    {
     "data": {
      "text/plain": [
       "(2, 'risa', '😂')"
      ]
     },
     "execution_count": 144,
     "metadata": {},
     "output_type": "execute_result"
    }
   ],
   "source": [
    "extract_emojis(sample_text)"
   ]
  },
  {
   "cell_type": "code",
   "execution_count": 146,
   "id": "3c00ccbf-513c-431d-bfd2-11c247124513",
   "metadata": {},
   "outputs": [
    {
     "data": {
      "text/html": [
       "<div>\n",
       "<style scoped>\n",
       "    .dataframe tbody tr th:only-of-type {\n",
       "        vertical-align: middle;\n",
       "    }\n",
       "\n",
       "    .dataframe tbody tr th {\n",
       "        vertical-align: top;\n",
       "    }\n",
       "\n",
       "    .dataframe thead th {\n",
       "        text-align: right;\n",
       "    }\n",
       "</style>\n",
       "<table border=\"1\" class=\"dataframe\">\n",
       "  <thead>\n",
       "    <tr style=\"text-align: right;\">\n",
       "      <th></th>\n",
       "      <th>comments</th>\n",
       "      <th>emoji_count</th>\n",
       "      <th>emotion</th>\n",
       "      <th>emoji_icon</th>\n",
       "    </tr>\n",
       "  </thead>\n",
       "  <tbody>\n",
       "    <tr>\n",
       "      <th>0</th>\n",
       "      <td>@prensa libre vez pasado cuarto hora wall stre...</td>\n",
       "      <td>0</td>\n",
       "      <td>oov</td>\n",
       "      <td></td>\n",
       "    </tr>\n",
       "    <tr>\n",
       "      <th>1</th>\n",
       "      <td>@publinewsgt #nacionales medida prevencion cov...</td>\n",
       "      <td>1</td>\n",
       "      <td>feliz</td>\n",
       "      <td>😃</td>\n",
       "    </tr>\n",
       "    <tr>\n",
       "      <th>2</th>\n",
       "      <td>@emisorasunidas video coronavirus turistas est...</td>\n",
       "      <td>1</td>\n",
       "      <td>risa</td>\n",
       "      <td>😂</td>\n",
       "    </tr>\n",
       "    <tr>\n",
       "      <th>3</th>\n",
       "      <td>@prensa libre @tododeportes pl premier league ...</td>\n",
       "      <td>1</td>\n",
       "      <td>serio</td>\n",
       "      <td>😐</td>\n",
       "    </tr>\n",
       "    <tr>\n",
       "      <th>4</th>\n",
       "      <td>@prensa libre @tododeportes pl coronavirus par...</td>\n",
       "      <td>1</td>\n",
       "      <td>disgusto</td>\n",
       "      <td>😒</td>\n",
       "    </tr>\n",
       "  </tbody>\n",
       "</table>\n",
       "</div>"
      ],
      "text/plain": [
       "                                            comments  emoji_count   emotion  \\\n",
       "0  @prensa libre vez pasado cuarto hora wall stre...            0       oov   \n",
       "1  @publinewsgt #nacionales medida prevencion cov...            1     feliz   \n",
       "2  @emisorasunidas video coronavirus turistas est...            1      risa   \n",
       "3  @prensa libre @tododeportes pl premier league ...            1     serio   \n",
       "4  @prensa libre @tododeportes pl coronavirus par...            1  disgusto   \n",
       "\n",
       "  emoji_icon  \n",
       "0             \n",
       "1          😃  \n",
       "2          😂  \n",
       "3          😐  \n",
       "4          😒  "
      ]
     },
     "execution_count": 146,
     "metadata": {},
     "output_type": "execute_result"
    }
   ],
   "source": [
    "data[['emoji_count', 'emotion', 'emoji_icon']] = data.apply(lambda row: extract_emojis(row['comments']), axis = 1, result_type = 'expand')\n",
    "data = data[['comments', 'emoji_count', 'emotion', 'emoji_icon']]\n",
    "data.head()"
   ]
  },
  {
   "cell_type": "markdown",
   "id": "a27d435e-147c-4ff3-a6b8-d4f7689ac57f",
   "metadata": {},
   "source": [
    "### NLP"
   ]
  },
  {
   "cell_type": "code",
   "execution_count": 10,
   "id": "e6535997-6662-47e3-a33b-21ce1745e000",
   "metadata": {},
   "outputs": [],
   "source": [
    "all_stopwords = stopwords.words('spanish')"
   ]
  },
  {
   "cell_type": "code",
   "execution_count": 147,
   "id": "d2d8986f-bd9c-4206-8ff7-ca09bc5fb886",
   "metadata": {},
   "outputs": [],
   "source": [
    "def normalizar(doc):\n",
    "    txt = re.sub(r'[^A-z0-9\\s{1}áéíóúüñÁÉÍÓÚÜ]', '', doc).lower().strip().rstrip('\\n').rstrip('\\r\\n')\n",
    "    return txt"
   ]
  },
  {
   "cell_type": "code",
   "execution_count": 170,
   "id": "5e24d9af-093e-422f-831e-45f5cb99ca0c",
   "metadata": {},
   "outputs": [],
   "source": [
    "def removeStopWords(text, stopwords):\n",
    "    output = ' '.join([token for token in text.split(' ') if not token in stopwords])\n",
    "    return output"
   ]
  },
  {
   "cell_type": "code",
   "execution_count": 171,
   "id": "9095033b-f6a4-4a8c-9751-cfd1df14b057",
   "metadata": {},
   "outputs": [],
   "source": [
    "#data['norm_content'] = list(map(normalizar, data['comments']))\n",
    "#data['token_content'] = list(map(removeStopWords, data['norm_content'], all_stopwords))"
   ]
  },
  {
   "cell_type": "code",
   "execution_count": 172,
   "id": "fff63804-7b56-4fe7-aa72-94c073d3bfa0",
   "metadata": {},
   "outputs": [
    {
     "data": {
      "text/html": [
       "<div>\n",
       "<style scoped>\n",
       "    .dataframe tbody tr th:only-of-type {\n",
       "        vertical-align: middle;\n",
       "    }\n",
       "\n",
       "    .dataframe tbody tr th {\n",
       "        vertical-align: top;\n",
       "    }\n",
       "\n",
       "    .dataframe thead th {\n",
       "        text-align: right;\n",
       "    }\n",
       "</style>\n",
       "<table border=\"1\" class=\"dataframe\">\n",
       "  <thead>\n",
       "    <tr style=\"text-align: right;\">\n",
       "      <th></th>\n",
       "      <th>comments</th>\n",
       "      <th>emoji_count</th>\n",
       "      <th>emotion</th>\n",
       "      <th>emoji_icon</th>\n",
       "      <th>norm_content</th>\n",
       "      <th>token_content</th>\n",
       "    </tr>\n",
       "  </thead>\n",
       "  <tbody>\n",
       "    <tr>\n",
       "      <th>0</th>\n",
       "      <td>@prensa libre vez pasado cuarto hora wall stre...</td>\n",
       "      <td>0</td>\n",
       "      <td>oov</td>\n",
       "      <td></td>\n",
       "      <td>prensa libre vez pasado cuarto hora wall stree...</td>\n",
       "      <td>prensa libre vez pasado cuarto hora wall stree...</td>\n",
       "    </tr>\n",
       "    <tr>\n",
       "      <th>1</th>\n",
       "      <td>@publinewsgt #nacionales medida prevencion cov...</td>\n",
       "      <td>1</td>\n",
       "      <td>feliz</td>\n",
       "      <td>😃</td>\n",
       "      <td>publinewsgt nacionales medida prevencion covid...</td>\n",
       "      <td>publinewsgt nacionales medida prevencion covid...</td>\n",
       "    </tr>\n",
       "    <tr>\n",
       "      <th>2</th>\n",
       "      <td>@emisorasunidas video coronavirus turistas est...</td>\n",
       "      <td>1</td>\n",
       "      <td>risa</td>\n",
       "      <td>😂</td>\n",
       "      <td>emisorasunidas video coronavirus turistas esta...</td>\n",
       "      <td>emisorasunidas video coronavirus turistas esta...</td>\n",
       "    </tr>\n",
       "    <tr>\n",
       "      <th>3</th>\n",
       "      <td>@prensa libre @tododeportes pl premier league ...</td>\n",
       "      <td>1</td>\n",
       "      <td>serio</td>\n",
       "      <td>😐</td>\n",
       "      <td>prensa libre tododeportes pl premier league in...</td>\n",
       "      <td>prensa libre tododeportes pl premier league in...</td>\n",
       "    </tr>\n",
       "    <tr>\n",
       "      <th>4</th>\n",
       "      <td>@prensa libre @tododeportes pl coronavirus par...</td>\n",
       "      <td>1</td>\n",
       "      <td>disgusto</td>\n",
       "      <td>😒</td>\n",
       "      <td>prensa libre tododeportes pl coronavirus parti...</td>\n",
       "      <td>prensa libre tododeportes pl coronavirus parti...</td>\n",
       "    </tr>\n",
       "  </tbody>\n",
       "</table>\n",
       "</div>"
      ],
      "text/plain": [
       "                                            comments  emoji_count   emotion  \\\n",
       "0  @prensa libre vez pasado cuarto hora wall stre...            0       oov   \n",
       "1  @publinewsgt #nacionales medida prevencion cov...            1     feliz   \n",
       "2  @emisorasunidas video coronavirus turistas est...            1      risa   \n",
       "3  @prensa libre @tododeportes pl premier league ...            1     serio   \n",
       "4  @prensa libre @tododeportes pl coronavirus par...            1  disgusto   \n",
       "\n",
       "  emoji_icon                                       norm_content  \\\n",
       "0             prensa libre vez pasado cuarto hora wall stree...   \n",
       "1          😃  publinewsgt nacionales medida prevencion covid...   \n",
       "2          😂  emisorasunidas video coronavirus turistas esta...   \n",
       "3          😐  prensa libre tododeportes pl premier league in...   \n",
       "4          😒  prensa libre tododeportes pl coronavirus parti...   \n",
       "\n",
       "                                       token_content  \n",
       "0  prensa libre vez pasado cuarto hora wall stree...  \n",
       "1  publinewsgt nacionales medida prevencion covid...  \n",
       "2  emisorasunidas video coronavirus turistas esta...  \n",
       "3  prensa libre tododeportes pl premier league in...  \n",
       "4  prensa libre tododeportes pl coronavirus parti...  "
      ]
     },
     "execution_count": 172,
     "metadata": {},
     "output_type": "execute_result"
    }
   ],
   "source": [
    "data['comments'] = list(map(normalizar, data['comments']))\n",
    "data['comments'] = list(map(removeStopWords, data['comments'], all_stopwords))"
   ]
  },
  {
   "cell_type": "markdown",
   "id": "dde0644b-e473-4d16-b47e-faa9c42f0f06",
   "metadata": {},
   "source": [
    "### Extra"
   ]
  },
  {
   "cell_type": "code",
   "execution_count": 173,
   "id": "12ad71e5-4b5b-47b6-8bbd-fa018bf49d4a",
   "metadata": {},
   "outputs": [],
   "source": [
    "from sklearn.preprocessing import OneHotEncoder"
   ]
  },
  {
   "cell_type": "code",
   "execution_count": 177,
   "id": "465d93e5-6c64-4515-bcce-a01b3dd2d103",
   "metadata": {},
   "outputs": [
    {
     "data": {
      "text/plain": [
       "(14, 1)"
      ]
     },
     "execution_count": 177,
     "metadata": {},
     "output_type": "execute_result"
    }
   ],
   "source": [
    "emotions = list(emoji_dictionary.keys())\n",
    "emotions = np.array(emotions)\n",
    "emotions = np.expand_dims(emotions, axis = 1)\n",
    "emotions.shape"
   ]
  },
  {
   "cell_type": "code",
   "execution_count": 180,
   "id": "7040ec02-1216-4b58-8e71-667103156961",
   "metadata": {},
   "outputs": [
    {
     "data": {
      "text/plain": [
       "array([['feliz'],\n",
       "       ['risa'],\n",
       "       ['amor'],\n",
       "       ['burla'],\n",
       "       ['serio'],\n",
       "       ['disgusto'],\n",
       "       ['sorpresa'],\n",
       "       ['miedo'],\n",
       "       ['tristeza'],\n",
       "       ['enojo'],\n",
       "       ['desafio'],\n",
       "       ['vacuna'],\n",
       "       ['enfermedad'],\n",
       "       ['oov']], dtype='<U10')"
      ]
     },
     "execution_count": 180,
     "metadata": {},
     "output_type": "execute_result"
    }
   ],
   "source": [
    "emotions"
   ]
  },
  {
   "cell_type": "code",
   "execution_count": 178,
   "id": "8e0fb951-3da0-4273-8027-6289ae8489d0",
   "metadata": {},
   "outputs": [
    {
     "data": {
      "text/plain": [
       "array([[0., 0., 0., 0., 0., 0., 1., 0., 0., 0., 0., 0., 0., 0.],\n",
       "       [0., 0., 0., 0., 0., 0., 0., 0., 0., 1., 0., 0., 0., 0.],\n",
       "       [1., 0., 0., 0., 0., 0., 0., 0., 0., 0., 0., 0., 0., 0.],\n",
       "       [0., 1., 0., 0., 0., 0., 0., 0., 0., 0., 0., 0., 0., 0.],\n",
       "       [0., 0., 0., 0., 0., 0., 0., 0., 0., 0., 1., 0., 0., 0.],\n",
       "       [0., 0., 0., 1., 0., 0., 0., 0., 0., 0., 0., 0., 0., 0.],\n",
       "       [0., 0., 0., 0., 0., 0., 0., 0., 0., 0., 0., 1., 0., 0.],\n",
       "       [0., 0., 0., 0., 0., 0., 0., 1., 0., 0., 0., 0., 0., 0.],\n",
       "       [0., 0., 0., 0., 0., 0., 0., 0., 0., 0., 0., 0., 1., 0.],\n",
       "       [0., 0., 0., 0., 0., 1., 0., 0., 0., 0., 0., 0., 0., 0.],\n",
       "       [0., 0., 1., 0., 0., 0., 0., 0., 0., 0., 0., 0., 0., 0.],\n",
       "       [0., 0., 0., 0., 0., 0., 0., 0., 0., 0., 0., 0., 0., 1.],\n",
       "       [0., 0., 0., 0., 1., 0., 0., 0., 0., 0., 0., 0., 0., 0.],\n",
       "       [0., 0., 0., 0., 0., 0., 0., 0., 1., 0., 0., 0., 0., 0.]])"
      ]
     },
     "execution_count": 178,
     "metadata": {},
     "output_type": "execute_result"
    }
   ],
   "source": [
    "ohe = OneHotEncoder()\n",
    "labels = ohe.fit_transform(emotions).toarray()\n",
    "labels"
   ]
  },
  {
   "cell_type": "code",
   "execution_count": 179,
   "id": "56dd29ff-e58f-467d-a4e4-a480f81c8f9e",
   "metadata": {},
   "outputs": [
    {
     "data": {
      "text/plain": [
       "[array(['amor', 'burla', 'desafio', 'disgusto', 'enfermedad', 'enojo',\n",
       "        'feliz', 'miedo', 'oov', 'risa', 'serio', 'sorpresa', 'tristeza',\n",
       "        'vacuna'], dtype='<U10')]"
      ]
     },
     "execution_count": 179,
     "metadata": {},
     "output_type": "execute_result"
    }
   ],
   "source": [
    "ohe.categories_"
   ]
  },
  {
   "cell_type": "code",
   "execution_count": 185,
   "id": "006d279a-143b-497b-bf0e-f8032d1368b7",
   "metadata": {},
   "outputs": [
    {
     "data": {
      "text/plain": [
       "array([[0., 0., 0., 0., 0., 0., 1., 0., 0., 0., 0., 0., 0., 0.]])"
      ]
     },
     "execution_count": 185,
     "metadata": {},
     "output_type": "execute_result"
    }
   ],
   "source": [
    "ohe.transform([['feliz']]).toarray()"
   ]
  },
  {
   "cell_type": "code",
   "execution_count": 183,
   "id": "ceea0d42-6898-44e9-82e7-aa8ba3373e90",
   "metadata": {},
   "outputs": [
    {
     "data": {
      "text/plain": [
       "array([['feliz'],\n",
       "       ['risa'],\n",
       "       ['amor'],\n",
       "       ['burla'],\n",
       "       ['serio'],\n",
       "       ['disgusto'],\n",
       "       ['sorpresa'],\n",
       "       ['miedo'],\n",
       "       ['tristeza'],\n",
       "       ['enojo'],\n",
       "       ['desafio'],\n",
       "       ['vacuna'],\n",
       "       ['enfermedad'],\n",
       "       ['oov']], dtype='<U10')"
      ]
     },
     "execution_count": 183,
     "metadata": {},
     "output_type": "execute_result"
    }
   ],
   "source": [
    "ohe.inverse_transform(labels)"
   ]
  }
 ],
 "metadata": {
  "kernelspec": {
   "display_name": "Python 3",
   "language": "python",
   "name": "python3"
  },
  "language_info": {
   "codemirror_mode": {
    "name": "ipython",
    "version": 3
   },
   "file_extension": ".py",
   "mimetype": "text/x-python",
   "name": "python",
   "nbconvert_exporter": "python",
   "pygments_lexer": "ipython3",
   "version": "3.6.13"
  }
 },
 "nbformat": 4,
 "nbformat_minor": 5
}
