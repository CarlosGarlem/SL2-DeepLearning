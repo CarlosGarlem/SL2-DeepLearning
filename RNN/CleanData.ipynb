{
 "cells": [
  {
   "cell_type": "code",
   "execution_count": 1,
   "id": "4967dbc0-33b9-4a43-8dcd-7e6ec706b09b",
   "metadata": {
    "executionInfo": {
     "elapsed": 871,
     "status": "ok",
     "timestamp": 1632192452578,
     "user": {
      "displayName": "Carlos Eduardo García",
      "photoUrl": "https://lh3.googleusercontent.com/a/default-user=s64",
      "userId": "09691453642422022249"
     },
     "user_tz": 360
    },
    "id": "4967dbc0-33b9-4a43-8dcd-7e6ec706b09b"
   },
   "outputs": [],
   "source": [
    "import os\n",
    "import numpy as np\n",
    "import pandas as pd\n",
    "from NLPModule import TextCleaner"
   ]
  },
  {
   "cell_type": "markdown",
   "id": "3ada3c42-2d91-473c-b5f0-7929737bb944",
   "metadata": {},
   "source": [
    "### Getting the dataset"
   ]
  },
  {
   "cell_type": "code",
   "execution_count": 2,
   "id": "a96f3cc7-fe12-4a2f-9e45-9ad48d2b1097",
   "metadata": {},
   "outputs": [],
   "source": [
    "output_path = './input/data'\n",
    "dataset_path = './input/data/tweets_dataset.csv'\n",
    "files_path = './input/tweets'"
   ]
  },
  {
   "cell_type": "code",
   "execution_count": 3,
   "id": "d8a706f8-6b22-4702-87c8-6fd9e851af07",
   "metadata": {},
   "outputs": [],
   "source": [
    "textCleaner = TextCleaner(output_path, dataset_path)"
   ]
  },
  {
   "cell_type": "code",
   "execution_count": 4,
   "id": "cd75beaa-628b-4d08-b966-9ea4e5aef0fe",
   "metadata": {},
   "outputs": [],
   "source": [
    "textCleaner.createDataset(files_path)"
   ]
  },
  {
   "cell_type": "code",
   "execution_count": 5,
   "id": "194d4172-edc2-474a-995f-30f0957a8ff7",
   "metadata": {},
   "outputs": [
    {
     "name": "stdout",
     "output_type": "stream",
     "text": [
      "File data saved succesfully\n",
      "File data saved succesfully\n",
      "File data saved succesfully\n",
      "File data saved succesfully\n",
      "File data saved succesfully\n",
      "File data saved succesfully\n",
      "File data saved succesfully\n",
      "File data saved succesfully\n",
      "File data saved succesfully\n"
     ]
    }
   ],
   "source": [
    "textCleaner.populateDataset(files_path)"
   ]
  },
  {
   "cell_type": "markdown",
   "id": "745dd9f8-51a2-4741-9e2c-9656db0d6b37",
   "metadata": {
    "id": "745dd9f8-51a2-4741-9e2c-9656db0d6b37"
   },
   "source": [
    "### Getting the data"
   ]
  },
  {
   "cell_type": "code",
   "execution_count": 6,
   "id": "5637611d-7a6a-43f9-8d7c-c4309f112eda",
   "metadata": {
    "colab": {
     "base_uri": "https://localhost:8080/",
     "height": 340
    },
    "executionInfo": {
     "elapsed": 2969,
     "status": "ok",
     "timestamp": 1632192583841,
     "user": {
      "displayName": "Carlos Eduardo García",
      "photoUrl": "https://lh3.googleusercontent.com/a/default-user=s64",
      "userId": "09691453642422022249"
     },
     "user_tz": 360
    },
    "id": "5637611d-7a6a-43f9-8d7c-c4309f112eda",
    "outputId": "e3e3c402-5297-44d4-d801-73434ed1acd8"
   },
   "outputs": [],
   "source": [
    "df = pd.read_csv(dataset_path, encoding = 'utf-8')"
   ]
  },
  {
   "cell_type": "code",
   "execution_count": 7,
   "id": "b4092343-b7f8-4213-9ab5-1acec52971d4",
   "metadata": {
    "colab": {
     "base_uri": "https://localhost:8080/",
     "height": 340
    },
    "executionInfo": {
     "elapsed": 218,
     "status": "ok",
     "timestamp": 1632192629800,
     "user": {
      "displayName": "Carlos Eduardo García",
      "photoUrl": "https://lh3.googleusercontent.com/a/default-user=s64",
      "userId": "09691453642422022249"
     },
     "user_tz": 360
    },
    "id": "b4092343-b7f8-4213-9ab5-1acec52971d4",
    "outputId": "bcbc6486-eff9-43be-c58b-14920a41f5b0"
   },
   "outputs": [
    {
     "data": {
      "text/html": [
       "<div>\n",
       "<style scoped>\n",
       "    .dataframe tbody tr th:only-of-type {\n",
       "        vertical-align: middle;\n",
       "    }\n",
       "\n",
       "    .dataframe tbody tr th {\n",
       "        vertical-align: top;\n",
       "    }\n",
       "\n",
       "    .dataframe thead th {\n",
       "        text-align: right;\n",
       "    }\n",
       "</style>\n",
       "<table border=\"1\" class=\"dataframe\">\n",
       "  <thead>\n",
       "    <tr style=\"text-align: right;\">\n",
       "      <th></th>\n",
       "      <th>comments</th>\n",
       "    </tr>\n",
       "  </thead>\n",
       "  <tbody>\n",
       "    <tr>\n",
       "      <th>0</th>\n",
       "      <td>#CORONAVIRUS La Universidad de Buenos Aires #U...</td>\n",
       "    </tr>\n",
       "    <tr>\n",
       "      <th>1</th>\n",
       "      <td>RT @UBARectorado: Suspensión temporal de la cu...</td>\n",
       "    </tr>\n",
       "    <tr>\n",
       "      <th>2</th>\n",
       "      <td>Aplausos en balcones y terrazas de toda España...</td>\n",
       "    </tr>\n",
       "    <tr>\n",
       "      <th>3</th>\n",
       "      <td>Emanuel Más sos mas malo que el #coronavirus .</td>\n",
       "    </tr>\n",
       "    <tr>\n",
       "      <th>4</th>\n",
       "      <td>RT @RubinsteinOk: En un escenario tan cambiant...</td>\n",
       "    </tr>\n",
       "  </tbody>\n",
       "</table>\n",
       "</div>"
      ],
      "text/plain": [
       "                                            comments\n",
       "0  #CORONAVIRUS La Universidad de Buenos Aires #U...\n",
       "1  RT @UBARectorado: Suspensión temporal de la cu...\n",
       "2  Aplausos en balcones y terrazas de toda España...\n",
       "3     Emanuel Más sos mas malo que el #coronavirus .\n",
       "4  RT @RubinsteinOk: En un escenario tan cambiant..."
      ]
     },
     "execution_count": 7,
     "metadata": {},
     "output_type": "execute_result"
    }
   ],
   "source": [
    "df.dropna(subset = ['tweet_text'], inplace = True, axis = 0)\n",
    "#data.rename(columns={'tweet_text': 'text'}, inplace = True)\n",
    "df.rename(columns={'tweet_text': 'comments'}, inplace = True)\n",
    "df = df[['comments']]\n",
    "df.head()"
   ]
  },
  {
   "cell_type": "markdown",
   "id": "7UIs5fiAQ7gL",
   "metadata": {
    "id": "7UIs5fiAQ7gL"
   },
   "source": [
    "### DataPreparation"
   ]
  },
  {
   "cell_type": "code",
   "execution_count": 8,
   "id": "be13d870-d125-4ba1-89dd-50107468b9c8",
   "metadata": {},
   "outputs": [],
   "source": [
    "#data = textCleaner.emojizeText(data)\n",
    "#data.head()"
   ]
  },
  {
   "cell_type": "code",
   "execution_count": 9,
   "id": "a0fcea93-3ffc-4d80-94bf-a5f744686149",
   "metadata": {},
   "outputs": [
    {
     "data": {
      "text/html": [
       "<div>\n",
       "<style scoped>\n",
       "    .dataframe tbody tr th:only-of-type {\n",
       "        vertical-align: middle;\n",
       "    }\n",
       "\n",
       "    .dataframe tbody tr th {\n",
       "        vertical-align: top;\n",
       "    }\n",
       "\n",
       "    .dataframe thead th {\n",
       "        text-align: right;\n",
       "    }\n",
       "</style>\n",
       "<table border=\"1\" class=\"dataframe\">\n",
       "  <thead>\n",
       "    <tr style=\"text-align: right;\">\n",
       "      <th></th>\n",
       "      <th>comments</th>\n",
       "      <th>emoji_count</th>\n",
       "      <th>emotion</th>\n",
       "      <th>emoji_icon</th>\n",
       "    </tr>\n",
       "  </thead>\n",
       "  <tbody>\n",
       "    <tr>\n",
       "      <th>47</th>\n",
       "      <td>RT @C5N: ⭕ Begoña Gómez, esposa de Pedro Sánch...</td>\n",
       "      <td>1</td>\n",
       "      <td>alerta</td>\n",
       "      <td>🚨</td>\n",
       "    </tr>\n",
       "    <tr>\n",
       "      <th>116</th>\n",
       "      <td>RT @nicocarratala: URGENTE 🚨🚨 #River #coronavi...</td>\n",
       "      <td>2</td>\n",
       "      <td>alerta</td>\n",
       "      <td>🚨</td>\n",
       "    </tr>\n",
       "    <tr>\n",
       "      <th>173</th>\n",
       "      <td>Lo que más me asusta del #coronavirus es si ll...</td>\n",
       "      <td>3</td>\n",
       "      <td>tristeza</td>\n",
       "      <td>😭</td>\n",
       "    </tr>\n",
       "    <tr>\n",
       "      <th>190</th>\n",
       "      <td>RT @C5N: ⭕ Confirmaron 11 nuevos casos de #cor...</td>\n",
       "      <td>1</td>\n",
       "      <td>alerta</td>\n",
       "      <td>🚨</td>\n",
       "    </tr>\n",
       "    <tr>\n",
       "      <th>198</th>\n",
       "      <td>RT @C5N: ⭕ Confirmaron 11 nuevos casos de #cor...</td>\n",
       "      <td>1</td>\n",
       "      <td>alerta</td>\n",
       "      <td>🚨</td>\n",
       "    </tr>\n",
       "    <tr>\n",
       "      <th>...</th>\n",
       "      <td>...</td>\n",
       "      <td>...</td>\n",
       "      <td>...</td>\n",
       "      <td>...</td>\n",
       "    </tr>\n",
       "    <tr>\n",
       "      <th>3235964</th>\n",
       "      <td>RT @ProComunaVen: #EsHoraDePrevenir😷🚨🗣La lucha...</td>\n",
       "      <td>2</td>\n",
       "      <td>cuidado</td>\n",
       "      <td>😷</td>\n",
       "    </tr>\n",
       "    <tr>\n",
       "      <th>3235966</th>\n",
       "      <td>RT @ProComunaVen: #EsHoraDePrevenir😷🚨🗣La lucha...</td>\n",
       "      <td>2</td>\n",
       "      <td>cuidado</td>\n",
       "      <td>😷</td>\n",
       "    </tr>\n",
       "    <tr>\n",
       "      <th>3235967</th>\n",
       "      <td>RT @ProComunaVen: #EsHoraDePrevenir😷🚨🗣La lucha...</td>\n",
       "      <td>2</td>\n",
       "      <td>cuidado</td>\n",
       "      <td>😷</td>\n",
       "    </tr>\n",
       "    <tr>\n",
       "      <th>3235968</th>\n",
       "      <td>#EsHoraDePrevenir😷🚨🗣La lucha contra el #COVID-...</td>\n",
       "      <td>2</td>\n",
       "      <td>cuidado</td>\n",
       "      <td>😷</td>\n",
       "    </tr>\n",
       "    <tr>\n",
       "      <th>3236168</th>\n",
       "      <td>RT @marjuli: 🦠 Tal vez lo sabían, pero les cue...</td>\n",
       "      <td>1</td>\n",
       "      <td>enfermedad</td>\n",
       "      <td>🤒</td>\n",
       "    </tr>\n",
       "  </tbody>\n",
       "</table>\n",
       "<p>313743 rows × 4 columns</p>\n",
       "</div>"
      ],
      "text/plain": [
       "                                                  comments  emoji_count  \\\n",
       "47       RT @C5N: ⭕ Begoña Gómez, esposa de Pedro Sánch...            1   \n",
       "116      RT @nicocarratala: URGENTE 🚨🚨 #River #coronavi...            2   \n",
       "173      Lo que más me asusta del #coronavirus es si ll...            3   \n",
       "190      RT @C5N: ⭕ Confirmaron 11 nuevos casos de #cor...            1   \n",
       "198      RT @C5N: ⭕ Confirmaron 11 nuevos casos de #cor...            1   \n",
       "...                                                    ...          ...   \n",
       "3235964  RT @ProComunaVen: #EsHoraDePrevenir😷🚨🗣La lucha...            2   \n",
       "3235966  RT @ProComunaVen: #EsHoraDePrevenir😷🚨🗣La lucha...            2   \n",
       "3235967  RT @ProComunaVen: #EsHoraDePrevenir😷🚨🗣La lucha...            2   \n",
       "3235968  #EsHoraDePrevenir😷🚨🗣La lucha contra el #COVID-...            2   \n",
       "3236168  RT @marjuli: 🦠 Tal vez lo sabían, pero les cue...            1   \n",
       "\n",
       "            emotion emoji_icon  \n",
       "47           alerta          🚨  \n",
       "116          alerta          🚨  \n",
       "173        tristeza          😭  \n",
       "190          alerta          🚨  \n",
       "198          alerta          🚨  \n",
       "...             ...        ...  \n",
       "3235964     cuidado          😷  \n",
       "3235966     cuidado          😷  \n",
       "3235967     cuidado          😷  \n",
       "3235968     cuidado          😷  \n",
       "3236168  enfermedad          🤒  \n",
       "\n",
       "[313743 rows x 4 columns]"
      ]
     },
     "execution_count": 9,
     "metadata": {},
     "output_type": "execute_result"
    }
   ],
   "source": [
    "data = textCleaner.getEmojiData(df)\n",
    "data.loc[data.emoji_icon != '', :]"
   ]
  },
  {
   "cell_type": "code",
   "execution_count": 10,
   "id": "e37ae736-b4a2-4f93-9682-5cd3b957eba0",
   "metadata": {},
   "outputs": [],
   "source": [
    "data = textCleaner.clean_data(data)"
   ]
  },
  {
   "cell_type": "code",
   "execution_count": 11,
   "id": "e8058c29-7d4f-4f63-ae97-41e8630d6e38",
   "metadata": {},
   "outputs": [],
   "source": [
    "data.to_csv('./input/data/cleaned_data.csv', encoding = 'utf-8')"
   ]
  }
 ],
 "metadata": {
  "colab": {
   "name": "RNN_Model.ipynb",
   "provenance": []
  },
  "kernelspec": {
   "display_name": "Python 3",
   "language": "python",
   "name": "python3"
  },
  "language_info": {
   "codemirror_mode": {
    "name": "ipython",
    "version": 3
   },
   "file_extension": ".py",
   "mimetype": "text/x-python",
   "name": "python",
   "nbconvert_exporter": "python",
   "pygments_lexer": "ipython3",
   "version": "3.6.13"
  }
 },
 "nbformat": 4,
 "nbformat_minor": 5
}
